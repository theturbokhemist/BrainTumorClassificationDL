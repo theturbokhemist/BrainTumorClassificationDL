{
 "cells": [
  {
   "cell_type": "code",
   "execution_count": 21,
   "metadata": {},
   "outputs": [],
   "source": [
    "# Basic manipulation libraries\n",
    "import numpy as np\n",
    "import pandas as pd\n",
    "import matplotlib.pyplot as plt\n",
    "\n",
    "# Importing PyTorch functionalities\n",
    "import torch\n",
    "import torch.nn as nn\n",
    "import torch.nn.functional as activation\n",
    "import torch.optim as optim\n",
    "from torch.utils.data import Dataset\n",
    "import hiddenlayer as hl\n",
    "\n",
    "# To get the metrics for evaluation\\n\",\n",
    "from sklearn.metrics import f1_score,precision_recall_curve,ConfusionMatrixDisplay,confusion_matrix,roc_curve,classification_report\n",
    "\n",
    "# More utilities\\n\",\n",
    "from PIL import Image\n",
    "from glob import glob\n",
    "import gc\n",
    "torch.cuda.empty_cache()\n",
    "gc.collect()\n",
    "# Dataset Locations\n",
    "\n",
    "# Training Set : 60% (900 Images)\n",
    "trainLocation=\"./full_dataset/Train\"\n",
    "\n",
    "# Validation Set : 20% (300 Images)\\n\",\n",
    "validationLocation=\"./full_dataset/Val\"\n",
    "\n",
    "# Testing Set : 20% (300 Images)\n",
    "testLocation=\"./full_dataset/Test\"\n"
   ]
  },
  {
   "cell_type": "code",
   "execution_count": 22,
   "metadata": {},
   "outputs": [
    {
     "data": {
      "text/plain": [
       "'\\nSave Model :\\ntorch.save(baseLine.state_dict(),PATH)\\n'"
      ]
     },
     "execution_count": 22,
     "metadata": {},
     "output_type": "execute_result"
    }
   ],
   "source": [
    "\"\"\"\n",
    "Save Model :\n",
    "torch.save(baseLine.state_dict(),PATH)\n",
    "\"\"\"\n"
   ]
  },
  {
   "cell_type": "code",
   "execution_count": 23,
   "metadata": {},
   "outputs": [],
   "source": [
    "# Cuda Initializer\n",
    "if torch.cuda.is_available():\n",
    "    device=torch.device(\"cuda:0\")\n",
    "else:\n",
    "    device=torch.device(\"cpu\")"
   ]
  },
  {
   "cell_type": "code",
   "execution_count": 24,
   "metadata": {},
   "outputs": [],
   "source": [
    "# Establishing the Dataset class\n",
    "\n",
    "class TumorDataset(Dataset):\n",
    "    def __init__(self,datasetLocation,reshape=True,width=128,height=128):\n",
    "\n",
    "        # Read the classes\n",
    "        self.datasetLocation=datasetLocation\n",
    "        self.negative_result=glob(datasetLocation+\"/no/*\")\n",
    "        self.positive_result=glob(datasetLocation+\"/yes/*\")\n",
    "\n",
    "\n",
    "        # Establishing the resizing factor\n",
    "        self.reshape=reshape\n",
    "        self.width=width\n",
    "        self.height=height\n",
    "\n",
    "        # Create the DataFrame\n",
    "        labels=[1 for i in range(len(self.positive_result))]\n",
    "        labels+=[0 for i in range(len(self.negative_result))]\n",
    "\n",
    "        images=self.positive_result+self.negative_result\n",
    "\n",
    "        self.imageData=pd.DataFrame({\"Image\":images,\"Label\":labels})\n",
    "        self.imageData.reset_index(inplace=True,drop=True)\n",
    "\n",
    "    def __len__(self):\n",
    "        return len(self.negative_result)+len(self.positive_result)\n",
    "\n",
    "    def __getitem__(self,idx):\n",
    "\n",
    "        imageList=self.imageData[\"Image\"][idx]\n",
    "        currLabels=self.imageData[\"Label\"][idx]\n",
    "        imageArray=[]\n",
    "\n",
    "        # GrayScale and Resize the images\n",
    "        for currImage in imageList:\n",
    "\n",
    "            currImage=Image.open(currImage).convert(\"L\")\n",
    "\n",
    "            if self.reshape:\n",
    "                currImage=currImage.resize((self.height,self.width))\n",
    "\n",
    "            imageArray.append(np.asarray(currImage).reshape(1,self.height,self.width))\n",
    "        \n",
    "        return [torch.tensor(imageArray,device=device),torch.tensor(currLabels.values,device=device)]\n",
    "\n",
    "    def __repr__(self):\n",
    "        return str(self.imageData.head(5))\n",
    "\n",
    "\n"
   ]
  },
  {
   "cell_type": "code",
   "execution_count": 25,
   "metadata": {},
   "outputs": [
    {
     "name": "stdout",
     "output_type": "stream",
     "text": [
      "                                       Image  Label\n",
      "0     ./full_dataset/Train/yes\\DS1_T1_y0.jpg      1\n",
      "1    ./full_dataset/Train/yes\\DS1_T1_y10.jpg      1\n",
      "2   ./full_dataset/Train/yes\\DS1_T1_y100.jpg      1\n",
      "3  ./full_dataset/Train/yes\\DS1_T1_y1001.jpg      1\n",
      "4  ./full_dataset/Train/yes\\DS1_T1_y1002.jpg      1\n"
     ]
    }
   ],
   "source": [
    "# Use the train dataset\n",
    "trainDataset=TumorDataset(trainLocation)\n",
    "print(trainDataset)"
   ]
  },
  {
   "cell_type": "code",
   "execution_count": 26,
   "metadata": {},
   "outputs": [],
   "source": [
    "# Base Line CNN Model\n",
    "class BaseLineCNN(nn.Module):\n",
    "    def __init__(self):\n",
    "        super().__init__()\n",
    "\n",
    "        # Another Convolution Layer on Top\n",
    "        self.convolutionLayer1=nn.Sequential(\n",
    "            nn.Conv2d(1,128,kernel_size=3), \n",
    "            nn.MaxPool2d(2,2),\n",
    "            nn.Conv2d(128,32,kernel_size=2)\n",
    "        )\n",
    "\n",
    "        # Fully Connected Layers\n",
    "        self.fcn1=nn.Linear(62,128)\n",
    "        self.fn2=nn.Linear(128,64)\n",
    "\n",
    "        # Flatten and final Layer\n",
    "        self.flatten=nn.Flatten(1)\n",
    "        self.fcn3=nn.Linear(126976,2)\n",
    "    \n",
    "    def forward(self,x):\n",
    "        # Perform Forward Propogation and calculate the value\n",
    "        x=activation.relu(self.convolutionLayer1(x))\n",
    "        x=activation.relu(self.fcn1(x))\n",
    "        x=activation.relu(self.fn2(x))\n",
    "        x=self.flatten(x)\n",
    "        # Softmax activation is applied by default for categorical cross entropy loss function \n",
    "        x=self.fcn3(x) \n",
    "        return x\n"
   ]
  },
  {
   "cell_type": "code",
   "execution_count": 27,
   "metadata": {},
   "outputs": [
    {
     "data": {
      "text/plain": [
       "<All keys matched successfully>"
      ]
     },
     "execution_count": 27,
     "metadata": {},
     "output_type": "execute_result"
    }
   ],
   "source": [
    "# Establish the Model\n",
    "baseLineCNN=BaseLineCNN()\n",
    "baseLineCNN.to(device=device)\n",
    "#baseLineCNN.load_state_dict(torch.load(\"./models_full-dataset/full_dataset_model\",device))"
   ]
  },
  {
   "cell_type": "code",
   "execution_count": 28,
   "metadata": {},
   "outputs": [],
   "source": [
    "# Loss Function\n",
    "lossFunction=nn.CrossEntropyLoss()\n",
    "\n",
    "# Optimizer \n",
    "optimizer=optim.Adam(baseLineCNN.parameters())"
   ]
  },
  {
   "cell_type": "code",
   "execution_count": 29,
   "metadata": {},
   "outputs": [
    {
     "data": {
      "text/plain": [
       "'\\nepochs=70\\nbatch_size=128\\n\\n# For Loss vs. Epoch Graph\\nlosses=[]\\n\\nfor epoch in range(epochs):\\n\\n    # loss calculator for each epoch\\n    total_loss=0\\n\\n    for n in range(len(trainDataset)//batch_size):\\n\\n        # Get the Features and target label\\n        features,target=trainDataset[n*batch_size:(n+1)*batch_size]\\n\\n\\n        # Evaluate the values\\n        predictions=baseLineCNN.propagate(features.float())\\n        loss=lossFunction(predictions,target)\\n        total_loss+=loss\\n\\n        optimizer.zero_grad()\\n        loss.backward()\\n        optimizer.step()\\n\\n    losses.append(total_loss/batch_size)\\n\\n    print(f\"Epoch : {epoch+1}  Training loss : {total_loss/n:.2f}\")\\n'"
      ]
     },
     "execution_count": 29,
     "metadata": {},
     "output_type": "execute_result"
    }
   ],
   "source": [
    "epochs=100\n",
    "batch_size=128\n",
    "\n",
    "# For Loss vs. Epoch Graph\n",
    "losses=[]\n",
    "\n",
    "for epoch in range(epochs):\n",
    "\n",
    "    # loss calculator for each epoch\n",
    "    total_loss=0\n",
    "\n",
    "    for n in range(len(trainDataset)//batch_size):\n",
    "\n",
    "        # Get the Features and target label\n",
    "        features,target=trainDataset[n*batch_size:(n+1)*batch_size]\n",
    "\n",
    "\n",
    "        # Evaluate the values\n",
    "        predictions=baseLineCNN.propagate(features.float())\n",
    "        loss=lossFunction(predictions,target)\n",
    "        total_loss+=loss\n",
    "\n",
    "        optimizer.zero_grad()\n",
    "        loss.backward()\n",
    "        optimizer.step()\n",
    "\n",
    "    losses.append(total_loss/batch_size)\n",
    "\n",
    "    print(f\"Epoch : {epoch+1}  Training loss : {total_loss/n:.2f}\")"
   ]
  },
  {
   "cell_type": "code",
   "execution_count": 30,
   "metadata": {},
   "outputs": [
    {
     "data": {
      "text/plain": [
       "'\\n# Loss vs. Epochs for Training Set\\nfig = plt.figure(figsize=(16,5))\\nlosses=torch.tensor(losses)\\nplt.plot(list(range(epochs)),losses)\\nplt.title(\"Loss vs Epochs\")\\nplt.xlabel(\"Epochs\")\\nplt.ylabel(\"Loss\")\\nplt.show()\\n'"
      ]
     },
     "execution_count": 30,
     "metadata": {},
     "output_type": "execute_result"
    }
   ],
   "source": [
    "# Loss vs. Epochs for Training Set\n",
    "fig = plt.figure(figsize=(16,5))\n",
    "losses=torch.tensor(losses)\n",
    "plt.plot(list(range(epochs)),losses)\n",
    "plt.title(\"Loss vs Epochs\")\n",
    "plt.xlabel(\"Epochs\")\n",
    "plt.ylabel(\"Loss\")\n",
    "plt.show()"
   ]
  },
  {
   "cell_type": "code",
   "execution_count": 31,
   "metadata": {},
   "outputs": [],
   "source": [
    "# Get the target and Predcition label to calculate the metrics\n",
    "def getTargetsAndPredictions(fileLocation):\n",
    "    testDataset=TumorDataset(fileLocation)\n",
    "    targets=[]\n",
    "    predictions=[]\n",
    "\n",
    "    for i in range(len(testDataset)):\n",
    "        features,target=testDataset[i:i+1]\n",
    "        targets.append(target.cpu().detach().item())\n",
    "        ypred=baseLineCNN.forward(features.float())\n",
    "        prediction=torch.argmax(ypred,dim=1)\n",
    "        predictions.append(prediction.cpu().detach().item())\n",
    "    return [targets,predictions]"
   ]
  },
  {
   "cell_type": "code",
   "execution_count": 32,
   "metadata": {},
   "outputs": [
    {
     "data": {
      "image/png": "[encoded data removed]",
      "text/plain": [
       "<Figure size 432x288 with 1 Axes>"
      ]
     },
     "metadata": {
      "needs_background": "light"
     },
     "output_type": "display_data"
    }
   ],
   "source": [
    "#create precision recall curve\n",
    "fig, ax = plt.subplots()\n",
    "\n",
    "trainLabels,trainResults=getTargetsAndPredictions(trainLocation)\n",
    "precision, recall, thresholds = precision_recall_curve(trainLabels, trainResults)\n",
    "ax.plot(recall, precision, color='orange',label=\"Training Curve\")\n",
    "\n",
    "validationLabels,validationResults=getTargetsAndPredictions(validationLocation)\n",
    "precision,recall,thresholds=precision_recall_curve(validationLabels,validationResults)\n",
    "ax.plot(recall,precision,color=\"purple\",label=\"Validation Curve\")\n",
    "\n",
    "testLabels,testResults=getTargetsAndPredictions(testLocation)\n",
    "precision,recall,thresholds=precision_recall_curve(testLabels,testResults)\n",
    "ax.plot(recall,precision,color=\"red\",label=\"Testing Curve\")\n",
    "\n",
    "ax.set_title('Precision-Recall Curve')\n",
    "ax.set_ylabel('Precision')\n",
    "ax.set_xlabel('Recall')\n",
    "ax.legend()\n",
    "\n",
    "\n",
    "#add axis labels to plot\n",
    "ax.set_title('Precision-Recall Curve')\n",
    "ax.set_ylabel('Precision')\n",
    "ax.set_xlabel('Recall')\n",
    "ax.legend()\n",
    "\n",
    "#display plot\n",
    "plt.show()"
   ]
  },
  {
   "cell_type": "code",
   "execution_count": 35,
   "metadata": {},
   "outputs": [
    {
     "name": "stdout",
     "output_type": "stream",
     "text": [
      "F1 Score on Training Set : 0.9143097466091894\n"
     ]
    },
    {
     "data": {
      "image/png": "[encoded data removed]",
      "text/plain": [
       "<Figure size 432x288 with 2 Axes>"
      ]
     },
     "metadata": {
      "needs_background": "light"
     },
     "output_type": "display_data"
    }
   ],
   "source": [
    "trainMatrix=ConfusionMatrixDisplay(confusion_matrix(trainLabels,trainResults))\n",
    "trainMatrix.plot()\n",
    "print(f\"F1 Score on Training Set : {f1_score(trainLabels,trainResults)}\")\n",
    "plt.show()"
   ]
  },
  {
   "cell_type": "code",
   "execution_count": 36,
   "metadata": {},
   "outputs": [
    {
     "name": "stdout",
     "output_type": "stream",
     "text": [
      "F1 Score on Validation Set : 0.8481228668941979\n"
     ]
    },
    {
     "data": {
      "image/png": "[encoded data removed]",
      "text/plain": [
       "<Figure size 432x288 with 2 Axes>"
      ]
     },
     "metadata": {
      "needs_background": "light"
     },
     "output_type": "display_data"
    }
   ],
   "source": [
    "validationMatrix=ConfusionMatrixDisplay(confusion_matrix(validationLabels,validationResults))\n",
    "validationMatrix.plot()\n",
    "print(f\"F1 Score on Validation Set : {f1_score(validationLabels,validationResults)}\")\n",
    "plt.show()"
   ]
  },
  {
   "cell_type": "code",
   "execution_count": 39,
   "metadata": {},
   "outputs": [
    {
     "name": "stdout",
     "output_type": "stream",
     "text": [
      "                precision    recall  f1-score   support\n",
      "\n",
      "      No Tumor       0.77      0.84      0.80       408\n",
      "Tumor Detected       0.89      0.83      0.86       611\n",
      "\n",
      "      accuracy                           0.83      1019\n",
      "     macro avg       0.83      0.84      0.83      1019\n",
      "  weighted avg       0.84      0.83      0.84      1019\n",
      "\n"
     ]
    }
   ],
   "source": [
    "print(classification_report(testLabels,testResults,target_names=[\"No Tumor\",\"Tumor Detected\"]))"
   ]
  },
  {
   "cell_type": "code",
   "execution_count": 40,
   "metadata": {},
   "outputs": [
    {
     "name": "stdout",
     "output_type": "stream",
     "text": [
      "F1 Score on test Set : 0.8571428571428571\n"
     ]
    },
    {
     "data": {
      "image/png": "[encoded data removed]",
      "text/plain": [
       "<Figure size 432x288 with 2 Axes>"
      ]
     },
     "metadata": {
      "needs_background": "light"
     },
     "output_type": "display_data"
    }
   ],
   "source": [
    "testMatrix=ConfusionMatrixDisplay(confusion_matrix(testLabels,testResults))\n",
    "testMatrix.plot()\n",
    "print(f\"F1 Score on test Set : {f1_score(testLabels,testResults)}\")\n",
    "plt.show()"
   ]
  }
 ],
 "metadata": {
  "kernelspec": {
   "display_name": "base",
   "language": "python",
   "name": "python3"
  },
  "language_info": {
   "codemirror_mode": {
    "name": "ipython",
    "version": 3
   },
   "file_extension": ".py",
   "mimetype": "text/x-python",
   "name": "python",
   "nbconvert_exporter": "python",
   "pygments_lexer": "ipython3",
   "version": "3.9.12"
  },
  "orig_nbformat": 4,
  "vscode": {
   "interpreter": {
    "hash": "ff4f85d6e04298634172ac5d8264e7e9b556b95639fe52ebb9425c4d4cba0c9c"
   }
  }
 },
 "nbformat": 4,
 "nbformat_minor": 2
}
