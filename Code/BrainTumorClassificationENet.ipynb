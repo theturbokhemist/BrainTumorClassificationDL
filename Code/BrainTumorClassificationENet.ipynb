{
  "nbformat": 4,
  "nbformat_minor": 0,
  "metadata": {
    "colab": {
      "provenance": [],
      "machine_shape": "hm"
    },
    "kernelspec": {
      "name": "python3",
      "display_name": "Python 3"
    },
    "language_info": {
      "name": "python"
    },
    "accelerator": "GPU",
    "gpuClass": "standard"
  },
  "cells": [
    {
      "cell_type": "code",
      "execution_count": 5,
      "metadata": {
        "colab": {
          "base_uri": "https://localhost:8080/"
        },
        "id": "qxVuRcoma-kv",
        "outputId": "96eab5cc-51bf-4c93-f4b3-b872f4a5daa6"
      },
      "outputs": [
        {
          "output_type": "stream",
          "name": "stdout",
          "text": [
            "Thu Dec 15 12:28:37 2022       \n",
            "+-----------------------------------------------------------------------------+\n",
            "| NVIDIA-SMI 460.32.03    Driver Version: 460.32.03    CUDA Version: 11.2     |\n",
            "|-------------------------------+----------------------+----------------------+\n",
            "| GPU  Name        Persistence-M| Bus-Id        Disp.A | Volatile Uncorr. ECC |\n",
            "| Fan  Temp  Perf  Pwr:Usage/Cap|         Memory-Usage | GPU-Util  Compute M. |\n",
            "|                               |                      |               MIG M. |\n",
            "|===============================+======================+======================|\n",
            "|   0  Tesla T4            Off  | 00000000:00:04.0 Off |                    0 |\n",
            "| N/A   47C    P0    26W /  70W |      0MiB / 15109MiB |      0%      Default |\n",
            "|                               |                      |                  N/A |\n",
            "+-------------------------------+----------------------+----------------------+\n",
            "                                                                               \n",
            "+-----------------------------------------------------------------------------+\n",
            "| Processes:                                                                  |\n",
            "|  GPU   GI   CI        PID   Type   Process name                  GPU Memory |\n",
            "|        ID   ID                                                   Usage      |\n",
            "|=============================================================================|\n",
            "|  No running processes found                                                 |\n",
            "+-----------------------------------------------------------------------------+\n"
          ]
        }
      ],
      "source": [
        "import os\n",
        "gpu_info = !nvidia-smi\n",
        "gpu_info = '\\n'.join(gpu_info)\n",
        "if gpu_info.find('failed') >= 0:\n",
        "  print('Not connected to a GPU')\n",
        "else:\n",
        "  print(gpu_info)"
      ]
    },
    {
      "cell_type": "code",
      "source": [
        "from google.colab import drive\n",
        "\n",
        "drive.mount('/content/gdrive')\n",
        "ROOT = \"/content/gdrive/My Drive/\""
      ],
      "metadata": {
        "colab": {
          "base_uri": "https://localhost:8080/"
        },
        "id": "-7TfiYtCbHsS",
        "outputId": "4fe4eec8-43be-4a2b-e439-156d829fca8a"
      },
      "execution_count": 2,
      "outputs": [
        {
          "output_type": "stream",
          "name": "stdout",
          "text": [
            "Mounted at /content/gdrive\n"
          ]
        }
      ]
    },
    {
      "cell_type": "code",
      "source": [
        "!cp \"/content/gdrive/MyDrive/FAI/TrainTestVal_DS1.zip\" /content\n",
        "!unzip -q \"/content/gdrive/MyDrive/FAI/TrainTestVal_DS1.zip\" -d /content #Unzip  #Move File from Drive to Colab"
      ],
      "metadata": {
        "id": "6ndbXa6JbHuZ"
      },
      "execution_count": 3,
      "outputs": []
    },
    {
      "cell_type": "code",
      "source": [],
      "metadata": {
        "id": "zOTGiYbMwmXp"
      },
      "execution_count": null,
      "outputs": []
    },
    {
      "cell_type": "code",
      "source": [
        "!cp \"/content/gdrive/MyDrive/FAI/TrainTestVal.zip\" /content  #Move File from Drive to Colab\n",
        "!unzip -q \"/content/gdrive/MyDrive/FAI/TrainTestVal.zip\" -d /content #Unzip\n",
        "\n",
        "train = \"/content/TrainTestVal/Train/\"\n",
        "test = \"/content/TrainTestVal/Test/\"\n",
        "val = \"/content/TrainTestVal/Val/\"\n",
        "\n",
        "train_normal = len(os.listdir(\"/content/TrainTestVal/Train/Tumor/\"))\n",
        "train_tumor = len(os.listdir(\"/content/TrainTestVal/Train/Normal/\"))\n",
        "print(train_normal)\n",
        "print(train_tumor)\n",
        "num_train = train_normal + train_tumor\n",
        "\n",
        "test_normal = len(os.listdir(\"/content/TrainTestVal/Test/Tumor/\"))\n",
        "test_tumor = len(os.listdir(\"/content/TrainTestVal/Test/Normal/\"))\n",
        "print(test_normal)\n",
        "print(test_tumor)\n",
        "num_test = test_normal + test_tumor\n",
        "\n",
        "val_normal = len(os.listdir(\"/content/TrainTestVal/Val/Tumor/\"))\n",
        "val_tumor = len(os.listdir(\"/content/TrainTestVal/Val/Normal/\"))\n",
        "print(val_normal)\n",
        "print(val_tumor)\n",
        "num_val = val_normal + val_tumor"
      ],
      "metadata": {
        "colab": {
          "base_uri": "https://localhost:8080/"
        },
        "id": "o2SFOEDebHw7",
        "outputId": "c6ca7df3-6367-43f4-acd2-388cd2a62c13"
      },
      "execution_count": 6,
      "outputs": [
        {
          "output_type": "stream",
          "name": "stdout",
          "text": [
            "replace /content/TrainTestVal/.DS_Store? [y]es, [n]o, [A]ll, [N]one, [r]ename: a\n",
            "error:  invalid response [a]\n",
            "replace /content/TrainTestVal/.DS_Store? [y]es, [n]o, [A]ll, [N]one, [r]ename: A\n",
            "4881\n",
            "3258\n",
            "611\n",
            "408\n",
            "610\n",
            "407\n"
          ]
        }
      ]
    },
    {
      "cell_type": "code",
      "source": [
        "img_dimensions  = 224\n",
        "batch_size = 64\n",
        "\n",
        "train = \"/content/TrainTestVal_DS1/Train/\"\n",
        "test = \"/content/TrainTestVal_DS1/Test/\"\n",
        "val = \"/content/TrainTestVal_DS1/Val/\""
      ],
      "metadata": {
        "id": "e_YwCZHEjSHl"
      },
      "execution_count": 7,
      "outputs": []
    },
    {
      "cell_type": "code",
      "source": [
        "train_normal = len(os.listdir(\"/content/TrainTestVal_DS1/Train/Tumor/\"))\n",
        "train_tumor = len(os.listdir(\"/content/TrainTestVal_DS1/Train/Normal/\"))\n",
        "print(train_normal)\n",
        "print(train_tumor)\n",
        "num_train = train_normal + train_tumor\n",
        "\n",
        "test_normal = len(os.listdir(\"/content/TrainTestVal_DS1/Test/Tumor/\"))\n",
        "test_tumor = len(os.listdir(\"/content/TrainTestVal_DS1/Test/Normal/\"))\n",
        "print(test_normal)\n",
        "print(test_tumor)\n",
        "num_test = test_normal + test_tumor\n",
        "\n",
        "val_normal = len(os.listdir(\"/content/TrainTestVal_DS1/Val/Tumor/\"))\n",
        "val_tumor = len(os.listdir(\"/content/TrainTestVal_DS1/Val/Normal/\"))\n",
        "print(val_normal)\n",
        "print(val_tumor)\n",
        "num_val = val_normal + val_tumor"
      ],
      "metadata": {
        "colab": {
          "base_uri": "https://localhost:8080/"
        },
        "id": "2uKiXIykq1Yn",
        "outputId": "affa0e18-0328-47ac-e5ec-b1db13bc98c5"
      },
      "execution_count": 8,
      "outputs": [
        {
          "output_type": "stream",
          "name": "stdout",
          "text": [
            "1200\n",
            "1200\n",
            "150\n",
            "150\n",
            "150\n",
            "150\n"
          ]
        }
      ]
    },
    {
      "cell_type": "code",
      "source": [
        "import os\n",
        "#os.environ['TF_CPP_MIN_LOG_LEVEL'] = '2'\n",
        "import tensorflow as tf\n",
        "from tensorflow import keras\n",
        "from tensorflow.keras import backend as K\n",
        "from tensorflow.keras.layers import Dense, Activation,Dropout,Conv2D, MaxPooling2D,BatchNormalization, Flatten\n",
        "from tensorflow.keras.optimizers import Adam, Adamax\n",
        "from tensorflow.keras.metrics import categorical_crossentropy\n",
        "from tensorflow.keras import regularizers\n",
        "from tensorflow.keras.preprocessing.image import ImageDataGenerator\n",
        "from tensorflow.keras.models import Model, load_model, Sequential\n",
        "import numpy as np\n",
        "import pandas as pd\n",
        "import shutil\n",
        "import time\n",
        "import cv2 as cv2\n",
        "from tqdm import tqdm\n",
        "from sklearn.model_selection import train_test_split\n",
        "import matplotlib.pyplot as plt\n",
        "import seaborn as sns\n",
        "sns.set_style('darkgrid')\n",
        "from PIL import Image\n",
        "from sklearn.metrics import confusion_matrix, classification_report\n",
        "from IPython.core.display import display, HTML\n",
        "# stop annoying tensorflow warning messages\n",
        "import logging\n",
        "logging.getLogger(\"tensorflow\").setLevel(logging.ERROR)"
      ],
      "metadata": {
        "id": "qNwqmX1QjSKF"
      },
      "execution_count": 9,
      "outputs": []
    },
    {
      "cell_type": "code",
      "source": [
        "img_size=(300,300)\n",
        "channels=3\n",
        "batch_size=20\n",
        "img_shape=(img_size[0], img_size[1], channels)\n",
        "\n",
        "def scalar(img):    \n",
        "    return img  # EfficientNet expects pixelsin range 0 to 255 so no scaling is required\n",
        "\n",
        "gen=ImageDataGenerator(preprocessing_function=scalar)\n",
        "\n",
        "train_gen=gen.flow_from_directory(directory = train, target_size=img_size, class_mode='categorical',\n",
        "                                    color_mode='rgb', shuffle=True, batch_size=batch_size)\n",
        "\n",
        "test_gen=gen.flow_from_directory(directory = test, target_size=img_size, class_mode='categorical',\n",
        "                                    color_mode='rgb', shuffle=False, batch_size=32)\n",
        "\n",
        "valid_gen=gen.flow_from_directory(directory = val, target_size=img_size, class_mode='categorical',\n",
        "                                    color_mode='rgb', shuffle=True, batch_size=batch_size)"
      ],
      "metadata": {
        "colab": {
          "base_uri": "https://localhost:8080/"
        },
        "id": "5810IGpOjSOu",
        "outputId": "e177881c-300d-4dfd-b6c8-dfef0eabb8fb"
      },
      "execution_count": 35,
      "outputs": [
        {
          "output_type": "stream",
          "name": "stdout",
          "text": [
            "Found 8139 images belonging to 2 classes.\n",
            "Found 1019 images belonging to 2 classes.\n",
            "Found 1017 images belonging to 2 classes.\n"
          ]
        }
      ]
    },
    {
      "cell_type": "code",
      "source": [],
      "metadata": {
        "id": "gwYp-sX1jSRD"
      },
      "execution_count": null,
      "outputs": []
    },
    {
      "cell_type": "code",
      "source": [
        "import keras.backend as K\n",
        "\n",
        "def f1_score(y_true, y_pred):\n",
        "\n",
        "    # Count positive samples.\n",
        "    c1 = K.sum(K.round(K.clip(y_true * y_pred, 0, 1)))\n",
        "    c2 = K.sum(K.round(K.clip(y_pred, 0, 1)))\n",
        "    c3 = K.sum(K.round(K.clip(y_true, 0, 1)))\n",
        "\n",
        "    # If there are no true samples, fix the F1 score at 0.\n",
        "    if c3 == 0:\n",
        "        return 0.0\n",
        "\n",
        "    # How many selected items are relevant?\n",
        "    precision = c1 / c2\n",
        "\n",
        "    # How many relevant items are selected?\n",
        "    recall = c1 / c3\n",
        "\n",
        "    # Calculate f1_score\n",
        "    f1_score = 2 * (precision * recall) / (precision + recall)\n",
        "    return f1_score"
      ],
      "metadata": {
        "id": "xlpelc8AjST3"
      },
      "execution_count": 13,
      "outputs": []
    },
    {
      "cell_type": "code",
      "source": [
        "model_name='EfficientNetB4'\n",
        "base_model=tf.keras.applications.EfficientNetB4(include_top=False, weights=\"imagenet\",input_shape=img_shape, pooling='max') \n",
        "base_model.trainable = False\n",
        "x=base_model.output\n",
        "x=keras.layers.BatchNormalization(axis=-1, momentum=0.99, epsilon=0.001 )(x)\n",
        "x = Dense(256, kernel_regularizer = regularizers.l2(l = 0.016),activity_regularizer=regularizers.l1(0.006),\n",
        "                bias_regularizer=regularizers.l1(0.006) ,activation='relu')(x)\n",
        "x=Dropout(rate=.45, seed=123)(x)        \n",
        "output=Dense(2, activation='softmax', name=\"pred\")(x)\n",
        "model=Model(inputs=base_model.input, outputs=output)\n",
        "model.compile(Adamax(learning_rate=.001), loss='categorical_crossentropy', metrics=['accuracy',f1_score]) "
      ],
      "metadata": {
        "id": "t_vhjb-CbHy_"
      },
      "execution_count": 61,
      "outputs": []
    },
    {
      "cell_type": "code",
      "source": [
        "model.summary()"
      ],
      "metadata": {
        "id": "ZPqzIUQrm72F"
      },
      "execution_count": null,
      "outputs": []
    },
    {
      "cell_type": "code",
      "source": [
        "def print_in_color(txt_msg,fore_tupple,back_tupple,):\n",
        "    #prints the text_msg in the foreground color specified by fore_tupple with the background specified by back_tupple \n",
        "    #text_msg is the text, fore_tupple is foregroud color tupple (r,g,b), back_tupple is background tupple (r,g,b)\n",
        "    rf,gf,bf=fore_tupple\n",
        "    rb,gb,bb=back_tupple\n",
        "    msg='{0}' + txt_msg\n",
        "    mat='\\33[38;2;' + str(rf) +';' + str(gf) + ';' + str(bf) + ';48;2;' + str(rb) + ';' +str(gb) + ';' + str(bb) +'m' \n",
        "    print(msg .format(mat), flush=True)\n",
        "    print('\\33[0m', flush=True) # returns default print color to back to black\n",
        "    return"
      ],
      "metadata": {
        "id": "KkTYxmvepasy"
      },
      "execution_count": 17,
      "outputs": []
    },
    {
      "cell_type": "code",
      "source": [
        "class LRA(keras.callbacks.Callback):\n",
        "    def __init__(self,model, base_model, patience,stop_patience, threshold, factor, dwell, batches, initial_epoch,epochs, ask_epoch):\n",
        "        super(LRA, self).__init__()\n",
        "        self.model=model\n",
        "        self.base_model=base_model\n",
        "        self.patience=patience # specifies how many epochs without improvement before learning rate is adjusted\n",
        "        self.stop_patience=stop_patience # specifies how many times to adjust lr without improvement to stop training\n",
        "        self.threshold=threshold # specifies training accuracy threshold when lr will be adjusted based on validation loss\n",
        "        self.factor=factor # factor by which to reduce the learning rate\n",
        "        self.dwell=dwell\n",
        "        self.batches=batches # number of training batch to runn per epoch\n",
        "        self.initial_epoch=initial_epoch\n",
        "        self.epochs=epochs\n",
        "        self.ask_epoch=ask_epoch\n",
        "        self.ask_epoch_initial=ask_epoch # save this value to restore if restarting training\n",
        "        # callback variables \n",
        "        self.count=0 # how many times lr has been reduced without improvement\n",
        "        self.stop_count=0        \n",
        "        self.best_epoch=1   # epoch with the lowest loss        \n",
        "        self.initial_lr=float(tf.keras.backend.get_value(model.optimizer.lr)) # get the initiallearning rate and save it         \n",
        "        self.highest_tracc=0.0 # set highest training accuracy to 0 initially\n",
        "        self.lowest_vloss=np.inf # set lowest validation loss to infinity initially\n",
        "        self.best_weights=self.model.get_weights() # set best weights to model's initial weights\n",
        "        self.initial_weights=self.model.get_weights()   # save initial weights if they have to get restored \n",
        "        \n",
        "    def on_train_begin(self, logs=None):        \n",
        "        if self.base_model != None:\n",
        "            status=base_model.trainable\n",
        "            if status:\n",
        "                msg=' initializing callback starting train with base_model trainable'\n",
        "            else:\n",
        "                msg='initializing callback starting training with base_model not trainable'\n",
        "        else:\n",
        "            msg='initialing callback and starting training'                        \n",
        "        print_in_color (msg, (244, 252, 3), (55,65,80)) \n",
        "        msg='{0:^8s}{1:^10s}{2:^9s}{3:^9s}{4:^9s}{5:^9s}{6:^9s}{7:^10s}{8:10s}{9:^8s}'.format('Epoch', 'Loss', 'Accuracy',\n",
        "                                                                                              'V_loss','V_acc', 'LR', 'Next LR', 'Monitor','% Improv', 'Duration')\n",
        "        print_in_color(msg, (244,252,3), (55,65,80)) \n",
        "        self.start_time= time.time()\n",
        "        \n",
        "    def on_train_end(self, logs=None):\n",
        "        stop_time=time.time()\n",
        "        tr_duration= stop_time- self.start_time            \n",
        "        hours = tr_duration // 3600\n",
        "        minutes = (tr_duration - (hours * 3600)) // 60\n",
        "        seconds = tr_duration - ((hours * 3600) + (minutes * 60))\n",
        "\n",
        "        self.model.set_weights(self.best_weights) # set the weights of the model to the best weights\n",
        "        msg=f'Training is completed - model is set with weights from epoch {self.best_epoch} '\n",
        "        print_in_color(msg, (0,255,0), (55,65,80))\n",
        "        msg = f'training elapsed time was {str(hours)} hours, {minutes:4.1f} minutes, {seconds:4.2f} seconds)'\n",
        "        print_in_color(msg, (0,255,0), (55,65,80))   \n",
        "        \n",
        "    def on_train_batch_end(self, batch, logs=None):\n",
        "        acc=logs.get('accuracy')* 100  # get training accuracy \n",
        "        loss=logs.get('loss')\n",
        "        msg='{0:20s}processing batch {1:4s} of {2:5s} accuracy= {3:8.3f}  loss: {4:8.5f}'.format(' ', str(batch), str(self.batches), acc, loss)\n",
        "        print(msg, '\\r', end='') # prints over on the same line to show running batch count        \n",
        "        \n",
        "    def on_epoch_begin(self,epoch, logs=None):\n",
        "        self.now= time.time()\n",
        "        \n",
        "    def on_epoch_end(self, epoch, logs=None):  # method runs on the end of each epoch\n",
        "        later=time.time()\n",
        "        duration=later-self.now \n",
        "        lr=float(tf.keras.backend.get_value(self.model.optimizer.lr)) # get the current learning rate\n",
        "        current_lr=lr\n",
        "        v_loss=logs.get('val_loss')  # get the validation loss for this epoch\n",
        "        acc=logs.get('accuracy')  # get training accuracy \n",
        "        v_acc=logs.get('val_accuracy')\n",
        "        loss=logs.get('loss')        \n",
        "        if acc < self.threshold: # if training accuracy is below threshold adjust lr based on training accuracy\n",
        "            monitor='accuracy'\n",
        "            if epoch ==0:\n",
        "                pimprov=0.0\n",
        "            else:\n",
        "                pimprov= (acc-self.highest_tracc )*100/self.highest_tracc\n",
        "            if acc>self.highest_tracc: # training accuracy improved in the epoch                \n",
        "                self.highest_tracc=acc # set new highest training accuracy\n",
        "                self.best_weights=self.model.get_weights() # traing accuracy improved so save the weights\n",
        "                self.count=0 # set count to 0 since training accuracy improved\n",
        "                self.stop_count=0 # set stop counter to 0\n",
        "                if v_loss<self.lowest_vloss:\n",
        "                    self.lowest_vloss=v_loss\n",
        "                color= (0,255,0)\n",
        "                self.best_epoch=epoch + 1  # set the value of best epoch for this epoch              \n",
        "            else: \n",
        "                # training accuracy did not improve check if this has happened for patience number of epochs\n",
        "                # if so adjust learning rate\n",
        "                if self.count>=self.patience -1: # lr should be adjusted\n",
        "                    color=(245, 170, 66)\n",
        "                    lr= lr* self.factor # adjust the learning by factor\n",
        "                    tf.keras.backend.set_value(self.model.optimizer.lr, lr) # set the learning rate in the optimizer\n",
        "                    self.count=0 # reset the count to 0\n",
        "                    self.stop_count=self.stop_count + 1 # count the number of consecutive lr adjustments\n",
        "                    self.count=0 # reset counter\n",
        "                    if self.dwell:\n",
        "                        self.model.set_weights(self.best_weights) # return to better point in N space                        \n",
        "                    else:\n",
        "                        if v_loss<self.lowest_vloss:\n",
        "                            self.lowest_vloss=v_loss                                    \n",
        "                else:\n",
        "                    self.count=self.count +1 # increment patience counter                    \n",
        "        else: # training accuracy is above threshold so adjust learning rate based on validation loss\n",
        "            monitor='val_loss'\n",
        "            if epoch ==0:\n",
        "                pimprov=0.0\n",
        "            else:\n",
        "                pimprov= (self.lowest_vloss- v_loss )*100/self.lowest_vloss\n",
        "            if v_loss< self.lowest_vloss: # check if the validation loss improved \n",
        "                self.lowest_vloss=v_loss # replace lowest validation loss with new validation loss                \n",
        "                self.best_weights=self.model.get_weights() # validation loss improved so save the weights\n",
        "                self.count=0 # reset count since validation loss improved  \n",
        "                self.stop_count=0  \n",
        "                color=(0,255,0)                \n",
        "                self.best_epoch=epoch + 1 # set the value of the best epoch to this epoch\n",
        "            else: # validation loss did not improve\n",
        "                if self.count>=self.patience-1: # need to adjust lr\n",
        "                    color=(245, 170, 66)\n",
        "                    lr=lr * self.factor # adjust the learning rate                    \n",
        "                    self.stop_count=self.stop_count + 1 # increment stop counter because lr was adjusted \n",
        "                    self.count=0 # reset counter\n",
        "                    tf.keras.backend.set_value(self.model.optimizer.lr, lr) # set the learning rate in the optimizer\n",
        "                    if self.dwell:\n",
        "                        self.model.set_weights(self.best_weights) # return to better point in N space\n",
        "                else: \n",
        "                    self.count =self.count +1 # increment the patience counter                    \n",
        "                if acc>self.highest_tracc:\n",
        "                    self.highest_tracc= acc\n",
        "        msg=f'{str(epoch+1):^3s}/{str(self.epochs):4s} {loss:^9.3f}{acc*100:^9.3f}{v_loss:^9.5f}{v_acc*100:^9.3f}{current_lr:^9.5f}{lr:^9.5f}{monitor:^11s}{pimprov:^10.2f}{duration:^8.2f}'\n",
        "        print_in_color (msg,color, (55,65,80))\n",
        "        if self.stop_count> self.stop_patience - 1: # check if learning rate has been adjusted stop_count times with no improvement\n",
        "            msg=f' training has been halted at epoch {epoch + 1} after {self.stop_patience} adjustments of learning rate with no improvement'\n",
        "            print_in_color(msg, (0,255,255), (55,65,80))\n",
        "            self.model.stop_training = True # stop training\n",
        "        else: \n",
        "            if self.ask_epoch !=None:\n",
        "                if epoch + 1 >= self.ask_epoch:\n",
        "                    if base_model.trainable:\n",
        "                        msg='enter H to halt  or an integer for number of epochs to run then ask again'\n",
        "                    else:\n",
        "                        msg='enter H to halt ,F to fine tune model, or an integer for number of epochs to run then ask again'\n",
        "                    print_in_color(msg, (0,255,255), (55,65,80))\n",
        "                    ans=input('')\n",
        "                    if ans=='H' or ans=='h':\n",
        "                        msg=f'training has been halted at epoch {epoch + 1} due to user input'\n",
        "                        print_in_color(msg, (0,255,255), (55,65,80))\n",
        "                        self.model.stop_training = True # stop training\n",
        "                    elif ans == 'F' or ans=='f':\n",
        "                        if base_model.trainable:\n",
        "                            msg='base_model is already set as trainable'\n",
        "                        else:\n",
        "                            msg='setting base_model as trainable for fine tuning of model'\n",
        "                            self.base_model.trainable=True\n",
        "                        print_in_color(msg, (0, 255,255), (55,65,80))\n",
        "                        msg='{0:^8s}{1:^10s}{2:^9s}{3:^9s}{4:^9s}{5:^9s}{6:^9s}{7:^10s}{8:^8s}'.format('Epoch', 'Loss', 'Accuracy',\n",
        "                                                                                              'V_loss','V_acc', 'LR', 'Next LR', 'Monitor','% Improv', 'Duration')\n",
        "                        print_in_color(msg, (244,252,3), (55,65,80))                         \n",
        "                        self.count=0\n",
        "                        self.stop_count=0                        \n",
        "                        self.ask_epoch = epoch + 1 + self.ask_epoch_initial \n",
        "                        \n",
        "                    else:\n",
        "                        ans=int(ans)\n",
        "                        self.ask_epoch +=ans\n",
        "                        msg=f' training will continue until epoch ' + str(self.ask_epoch)                         \n",
        "                        print_in_color(msg, (0, 255,255), (55,65,80))\n",
        "                        msg='{0:^8s}{1:^10s}{2:^9s}{3:^9s}{4:^9s}{5:^9s}{6:^9s}{7:^10s}{8:10s}{9:^8s}'.format('Epoch', 'Loss', 'Accuracy',\n",
        "                                                                                              'V_loss','V_acc', 'LR', 'Next LR', 'Monitor','% Improv', 'Duration')\n",
        "                        print_in_color(msg, (244,252,3), (55,65,80)) "
      ],
      "metadata": {
        "id": "MbJVr_MCpNel"
      },
      "execution_count": 18,
      "outputs": []
    },
    {
      "cell_type": "code",
      "source": [
        "epochs = 25\n",
        "patience= 1 # number of epochs to wait to adjust lr if monitored value does not improve\n",
        "stop_patience =3 # number of epochs to wait before stopping training if monitored value does not improve\n",
        "threshold=.9 # if train accuracy is < threshhold adjust monitor accuracy, else monitor validation loss\n",
        "factor=.5 # factor to reduce lr by\n",
        "dwell=True # experimental, if True and monitored metric does not improve on current epoch set  modelweights back to weights of previous epoch\n",
        "freeze=False # if true free weights of  the base model\n",
        "ask_epoch=15 # number of epochs to run before asking if you want to halt training\n",
        "batches=num_train//batch_size\n",
        "callbacks=[LRA(model=model,base_model= base_model,patience=patience,stop_patience=stop_patience, threshold=threshold,\n",
        "                   factor=factor,dwell=dwell, batches=batches,initial_epoch=0,epochs=epochs, ask_epoch=ask_epoch )]\n",
        "\n",
        "history2 = model.fit(x=train_gen,  epochs=epochs, verbose=0, callbacks=callbacks,  validation_data=valid_gen,\n",
        "               validation_steps=None,  shuffle=False,  initial_epoch=0)"
      ],
      "metadata": {
        "colab": {
          "base_uri": "https://localhost:8080/"
        },
        "id": "3nea_CgaoLI9",
        "outputId": "05450efe-faa1-43be-b730-d1f8e0ba21bd"
      },
      "execution_count": 62,
      "outputs": [
        {
          "output_type": "stream",
          "name": "stdout",
          "text": [
            "\u001b[38;2;244;252;3;48;2;55;65;80minitializing callback starting training with base_model not trainable\n",
            "\u001b[0m\n",
            "\u001b[38;2;244;252;3;48;2;55;65;80m Epoch     Loss   Accuracy  V_loss    V_acc     LR     Next LR  Monitor  % Improv  Duration\n",
            "\u001b[0m\n",
            "\u001b[38;2;0;255;0;48;2;55;65;80m 1 /25     4.693   85.944   2.73895  92.527   0.00100  0.00100  accuracy     0.00    93.89  \n",
            "\u001b[0m\n",
            "\u001b[38;2;0;255;0;48;2;55;65;80m 2 /25     1.979   91.129   1.32499  94.592   0.00100  0.00100  val_loss    51.62    79.89  \n",
            "\u001b[0m\n",
            "\u001b[38;2;0;255;0;48;2;55;65;80m 3 /25     1.060   91.829   0.79459  93.314   0.00100  0.00100  val_loss    40.03    79.90  \n",
            "\u001b[0m\n",
            "\u001b[38;2;0;255;0;48;2;55;65;80m 4 /25     0.681   92.948   0.55858  93.707   0.00100  0.00100  val_loss    29.70    79.83  \n",
            "\u001b[0m\n",
            "\u001b[38;2;0;255;0;48;2;55;65;80m 5 /25     0.520   93.021   0.42880  96.165   0.00100  0.00100  val_loss    23.23    79.92  \n",
            "\u001b[0m\n",
            "\u001b[38;2;0;255;0;48;2;55;65;80m 6 /25     0.443   93.070   0.38717  95.280   0.00100  0.00100  val_loss     9.71    79.73  \n",
            "\u001b[0m\n",
            "\u001b[38;2;0;255;0;48;2;55;65;80m 7 /25     0.395   93.537   0.34592  94.985   0.00100  0.00100  val_loss    10.65    79.81  \n",
            "\u001b[0m\n",
            "\u001b[38;2;0;255;0;48;2;55;65;80m 8 /25     0.362   93.918   0.31848  95.477   0.00100  0.00100  val_loss     7.93    79.83  \n",
            "\u001b[0m\n",
            "\u001b[38;2;0;255;0;48;2;55;65;80m 9 /25     0.348   93.709   0.30927  95.674   0.00100  0.00100  val_loss     2.89    79.82  \n",
            "\u001b[0m\n",
            "\u001b[38;2;0;255;0;48;2;55;65;80m10 /25     0.331   94.090   0.29972  95.674   0.00100  0.00100  val_loss     3.09    79.86  \n",
            "\u001b[0m\n",
            "\u001b[38;2;0;255;0;48;2;55;65;80m11 /25     0.329   93.930   0.27338  96.755   0.00100  0.00100  val_loss     8.79    79.72  \n",
            "\u001b[0m\n",
            "\u001b[38;2;245;170;66;48;2;55;65;80m12 /25     0.320   94.213   0.27577  96.067   0.00100  0.00050  val_loss    -0.87    79.89  \n",
            "\u001b[0m\n",
            "\u001b[38;2;0;255;0;48;2;55;65;80m13 /25     0.289   95.245   0.24239  97.542   0.00050  0.00050  val_loss    11.34    79.85  \n",
            "\u001b[0m\n",
            "\u001b[38;2;0;255;0;48;2;55;65;80m14 /25     0.274   95.835   0.24158  97.148   0.00050  0.00050  val_loss     0.34    79.92  \n",
            "\u001b[0m\n",
            "\u001b[38;2;0;255;0;48;2;55;65;80m15 /25     0.264   95.896   0.22902  96.952   0.00050  0.00050  val_loss     5.20    79.82  \n",
            "\u001b[0m\n",
            "\u001b[38;2;0;255;255;48;2;55;65;80menter H to halt ,F to fine tune model, or an integer for number of epochs to run then ask again\n",
            "\u001b[0m\n",
            "10\n",
            "\u001b[38;2;0;255;255;48;2;55;65;80m training will continue until epoch 25\n",
            "\u001b[0m\n",
            "\u001b[38;2;244;252;3;48;2;55;65;80m Epoch     Loss   Accuracy  V_loss    V_acc     LR     Next LR  Monitor  % Improv  Duration\n",
            "\u001b[0m\n",
            "\u001b[38;2;245;170;66;48;2;55;65;80m16 /25     0.252   95.995   0.23300  97.247   0.00050  0.00025  val_loss    -1.73    80.07  \n",
            "\u001b[0m\n",
            "\u001b[38;2;0;255;0;48;2;55;65;80m17 /25     0.240   96.523   0.22002  96.853   0.00025  0.00025  val_loss     3.93    79.92  \n",
            "\u001b[0m\n",
            "\u001b[38;2;0;255;0;48;2;55;65;80m18 /25     0.233   96.744   0.21066  97.345   0.00025  0.00025  val_loss     4.25    79.91  \n",
            "\u001b[0m\n",
            "\u001b[38;2;0;255;0;48;2;55;65;80m19 /25     0.229   96.781   0.20272  97.148   0.00025  0.00025  val_loss     3.77    79.88  \n",
            "\u001b[0m\n",
            "\u001b[38;2;245;170;66;48;2;55;65;80m20 /25     0.222   96.830   0.20683  97.148   0.00025  0.00013  val_loss    -2.03    79.96  \n",
            "\u001b[0m\n",
            "\u001b[38;2;0;255;0;48;2;55;65;80m21 /25     0.217   97.064   0.20023  97.148   0.00013  0.00013  val_loss     1.23    79.83  \n",
            "\u001b[0m\n",
            "\u001b[38;2;0;255;0;48;2;55;65;80m22 /25     0.210   97.358   0.19925  97.345   0.00013  0.00013  val_loss     0.49    79.83  \n",
            "\u001b[0m\n",
            "\u001b[38;2;0;255;0;48;2;55;65;80m23 /25     0.207   97.383   0.19521  97.247   0.00013  0.00013  val_loss     2.03    79.92  \n",
            "\u001b[0m\n",
            "\u001b[38;2;0;255;0;48;2;55;65;80m24 /25     0.204   97.248   0.19346  97.443   0.00013  0.00013  val_loss     0.90    79.82  \n",
            "\u001b[0m\n",
            "\u001b[38;2;0;255;0;48;2;55;65;80m25 /25     0.201   97.272   0.19103  97.247   0.00013  0.00013  val_loss     1.26    79.90  \n",
            "\u001b[0m\n",
            "\u001b[38;2;0;255;255;48;2;55;65;80menter H to halt ,F to fine tune model, or an integer for number of epochs to run then ask again\n",
            "\u001b[0m\n",
            "H\n",
            "\u001b[38;2;0;255;255;48;2;55;65;80mtraining has been halted at epoch 25 due to user input\n",
            "\u001b[0m\n",
            "\u001b[38;2;0;255;0;48;2;55;65;80mTraining is completed - model is set with weights from epoch 25 \n",
            "\u001b[0m\n",
            "\u001b[38;2;0;255;0;48;2;55;65;80mtraining elapsed time was 0.0 hours, 34.0 minutes, 1.48 seconds)\n",
            "\u001b[0m\n"
          ]
        }
      ]
    },
    {
      "cell_type": "code",
      "source": [
        "from tensorflow.keras.callbacks import Callback,ModelCheckpoint,EarlyStopping,ReduceLROnPlateau,LearningRateScheduler\n",
        "\n",
        "\n",
        "#callback to stop the training if your validation accuracy is not increased in last 2 epochs\n",
        "callback1 = EarlyStopping( monitor=\"val_accuracy\",\n",
        "                           patience=2,\n",
        "                           verbose=1,\n",
        "                           mode=\"auto\",\n",
        "                           min_delta=0 )\n",
        "\n",
        "#callback to decay learning based on below conditions \n",
        "#Cond1. If validation accuracy at that epoch is less than previous epoch accuracy, decrease the learning rate by 10%. \n",
        "#Cond2. For every 3rd epoch, decay learning rate by 5%\n",
        "#for Cond1:-\n",
        "callback2 = ReduceLROnPlateau( monitor=\"val_accuracy\",\n",
        "                              factor=0.1,\n",
        "                              patience=1,\n",
        "                              verbose=1,\n",
        "                              mode=\"auto\"\n",
        "                              )\n",
        "#for Cond2:-\n",
        "def lf_schedule(epoch,lr):\n",
        "  if epoch%3 ==0:\n",
        "    lr=lr - 0.05*lr #-->i.e. 0.95*lr (5% decay)\n",
        "    print(f'New learning rate for epoch={epoch} is {lr}')\n",
        "    return lr\n",
        "  else:\n",
        "    return lr\n",
        "callback3 = LearningRateScheduler( schedule=lf_schedule,verbose=1 )\n",
        "\n",
        "#callback to save the model at every epoch if validation accuracy is improved from previous epoch\n",
        "#file path to save the best model for ModelCheckPoint:-\n",
        "\n",
        "f_path = \"/content/gdrive/MyDrive/FAI/best_model.h5\"\n",
        "callback4 = ModelCheckpoint( filepath=f_path,\n",
        "                             monitor=\"val_accuracy\",\n",
        "                             verbose=1,\n",
        "                             save_best_only=True,\n",
        "                             mode=\"auto\"\n",
        "                           )"
      ],
      "metadata": {
        "id": "X0LcitvTWRQ-"
      },
      "execution_count": 54,
      "outputs": []
    },
    {
      "cell_type": "code",
      "source": [
        "history = model.fit_generator(generator=train_gen,\n",
        "                              steps_per_epoch=len(train_gen),\n",
        "                              validation_data=valid_gen,\n",
        "                              validation_steps=len(valid_gen),\n",
        "                              epochs=30,\n",
        "                              callbacks=[callback1,callback2,callback3,callback4])"
      ],
      "metadata": {
        "colab": {
          "base_uri": "https://localhost:8080/"
        },
        "id": "ElWNDEBytjA4",
        "outputId": "a6aea7e6-15af-41f6-b57b-0050249c81a5"
      },
      "execution_count": 55,
      "outputs": [
        {
          "output_type": "stream",
          "name": "stdout",
          "text": [
            "New learning rate for epoch=0 is 0.0009500000451225787\n",
            "\n",
            "Epoch 1: LearningRateScheduler setting learning rate to 0.0009500000451225787.\n",
            "Epoch 1/30\n"
          ]
        },
        {
          "output_type": "stream",
          "name": "stderr",
          "text": [
            "<ipython-input-55-6c3dc98a6675>:1: UserWarning: `Model.fit_generator` is deprecated and will be removed in a future version. Please use `Model.fit`, which supports generators.\n",
            "  history = model.fit_generator(generator=train_gen,\n"
          ]
        },
        {
          "output_type": "stream",
          "name": "stdout",
          "text": [
            "407/407 [==============================] - ETA: 0s - loss: 4.7773 - accuracy: 0.8562 - f1_score: 0.8563\n",
            "Epoch 1: val_accuracy improved from -inf to 0.93904, saving model to /content/gdrive/MyDrive/FAI/best_model.h5\n",
            "407/407 [==============================] - 96s 208ms/step - loss: 4.7773 - accuracy: 0.8562 - f1_score: 0.8563 - val_loss: 2.8135 - val_accuracy: 0.9390 - val_f1_score: 0.9392 - lr: 9.5000e-04\n",
            "\n",
            "Epoch 2: LearningRateScheduler setting learning rate to 0.0009500000160187483.\n",
            "Epoch 2/30\n",
            "407/407 [==============================] - ETA: 0s - loss: 2.0448 - accuracy: 0.9128 - f1_score: 0.9128\n",
            "Epoch 2: val_accuracy improved from 0.93904 to 0.95182, saving model to /content/gdrive/MyDrive/FAI/best_model.h5\n",
            "407/407 [==============================] - 83s 205ms/step - loss: 2.0448 - accuracy: 0.9128 - f1_score: 0.9128 - val_loss: 1.3827 - val_accuracy: 0.9518 - val_f1_score: 0.9518 - lr: 9.5000e-04\n",
            "\n",
            "Epoch 3: LearningRateScheduler setting learning rate to 0.0009500000160187483.\n",
            "Epoch 3/30\n",
            "407/407 [==============================] - ETA: 0s - loss: 1.1011 - accuracy: 0.9221 - f1_score: 0.9221\n",
            "Epoch 3: val_accuracy improved from 0.95182 to 0.95772, saving model to /content/gdrive/MyDrive/FAI/best_model.h5\n",
            "407/407 [==============================] - 83s 204ms/step - loss: 1.1011 - accuracy: 0.9221 - f1_score: 0.9221 - val_loss: 0.8048 - val_accuracy: 0.9577 - val_f1_score: 0.9578 - lr: 9.5000e-04\n",
            "New learning rate for epoch=3 is 0.0009025000152178108\n",
            "\n",
            "Epoch 4: LearningRateScheduler setting learning rate to 0.0009025000152178108.\n",
            "Epoch 4/30\n",
            "407/407 [==============================] - ETA: 0s - loss: 0.7075 - accuracy: 0.9307 - f1_score: 0.9307\n",
            "Epoch 4: ReduceLROnPlateau reducing learning rate to 9.025000035762788e-05.\n",
            "\n",
            "Epoch 4: val_accuracy did not improve from 0.95772\n",
            "407/407 [==============================] - 81s 199ms/step - loss: 0.7075 - accuracy: 0.9307 - f1_score: 0.9307 - val_loss: 0.5625 - val_accuracy: 0.9548 - val_f1_score: 0.9547 - lr: 9.0250e-05\n",
            "\n",
            "Epoch 5: LearningRateScheduler setting learning rate to 9.025000326801091e-05.\n",
            "Epoch 5/30\n",
            "407/407 [==============================] - ETA: 0s - loss: 0.5674 - accuracy: 0.9425 - f1_score: 0.9425\n",
            "Epoch 5: ReduceLROnPlateau reducing learning rate to 9.025000326801092e-06.\n",
            "\n",
            "Epoch 5: val_accuracy did not improve from 0.95772\n",
            "407/407 [==============================] - 81s 198ms/step - loss: 0.5674 - accuracy: 0.9425 - f1_score: 0.9425 - val_loss: 0.5210 - val_accuracy: 0.9577 - val_f1_score: 0.9578 - lr: 9.0250e-06\n",
            "Epoch 5: early stopping\n"
          ]
        }
      ]
    },
    {
      "cell_type": "code",
      "source": [
        "def print_info( test_gen, preds, print_code, save_dir, subject ):\n",
        "    class_dict=test_gen.class_indices\n",
        "    labels= test_gen.labels\n",
        "    file_names= test_gen.filenames \n",
        "    error_list=[]\n",
        "    true_class=[]\n",
        "    pred_class=[]\n",
        "    prob_list=[]\n",
        "    new_dict={}\n",
        "    error_indices=[]\n",
        "    y_pred=[]\n",
        "    for key,value in class_dict.items():\n",
        "        new_dict[value]=key             # dictionary {integer of class number: string of class name}\n",
        "    # store new_dict as a text fine in the save_dir\n",
        "    classes=list(new_dict.values())     # list of string of class names     \n",
        "    errors=0      \n",
        "    for i, p in enumerate(preds):\n",
        "        pred_index=np.argmax(p)         \n",
        "        true_index=labels[i]  # labels are integer values\n",
        "        if pred_index != true_index: # a misclassification has occurred\n",
        "            error_list.append(file_names[i])\n",
        "            true_class.append(new_dict[true_index])\n",
        "            pred_class.append(new_dict[pred_index])\n",
        "            prob_list.append(p[pred_index])\n",
        "            error_indices.append(true_index)            \n",
        "            errors=errors + 1\n",
        "        y_pred.append(pred_index)    \n",
        "    if print_code !=0:\n",
        "        if errors>0:\n",
        "            if print_code>errors:\n",
        "                r=errors\n",
        "            else:\n",
        "                r=print_code           \n",
        "            msg='{0:^28s}{1:^28s}{2:^28s}{3:^16s}'.format('Filename', 'Predicted Class' , 'True Class', 'Probability')\n",
        "            print_in_color(msg, (0,255,0),(55,65,80))\n",
        "            for i in range(r):                \n",
        "                split1=os.path.split(error_list[i])                \n",
        "                split2=os.path.split(split1[0])                \n",
        "                fname=split2[1] + '/' + split1[1]\n",
        "                msg='{0:^28s}{1:^28s}{2:^28s}{3:4s}{4:^6.4f}'.format(fname, pred_class[i],true_class[i], ' ', prob_list[i])\n",
        "                print_in_color(msg, (255,255,255), (55,65,60))\n",
        "                #print(error_list[i]  , pred_class[i], true_class[i], prob_list[i])               \n",
        "        else:\n",
        "            msg='With accuracy of 100 % there are no errors to print'\n",
        "            print_in_color(msg, (0,255,0),(55,65,80))\n",
        "    if errors>0:\n",
        "        plot_bar=[]\n",
        "        plot_class=[]\n",
        "        for  key, value in new_dict.items():        \n",
        "            count=error_indices.count(key) \n",
        "            if count!=0:\n",
        "                plot_bar.append(count) # list containg how many times a class c had an error\n",
        "                plot_class.append(value)   # stores the class \n",
        "        fig=plt.figure()\n",
        "        fig.set_figheight(len(plot_class)/3)\n",
        "        fig.set_figwidth(10)\n",
        "        plt.style.use('fivethirtyeight')\n",
        "        for i in range(0, len(plot_class)):\n",
        "            c=plot_class[i]\n",
        "            x=plot_bar[i]\n",
        "            plt.barh(c, x, )\n",
        "            plt.title( ' Errors by Class on Test Set')\n",
        "    y_true= np.array(labels)        \n",
        "    y_pred=np.array(y_pred)\n",
        "    if len(classes)<= 30:\n",
        "        # create a confusion matrix \n",
        "        cm = confusion_matrix(y_true, y_pred )        \n",
        "        length=len(classes)\n",
        "        if length<8:\n",
        "            fig_width=8\n",
        "            fig_height=8\n",
        "        else:\n",
        "            fig_width= int(length * .5)\n",
        "            fig_height= int(length * .5)\n",
        "        plt.figure(figsize=(fig_width, fig_height))\n",
        "        sns.heatmap(cm, annot=True, vmin=0, fmt='g', cmap='Blues', cbar=False)       \n",
        "        plt.xticks(np.arange(length)+.5, classes, rotation= 90)\n",
        "        plt.yticks(np.arange(length)+.5, classes, rotation=0)\n",
        "        plt.xlabel(\"Predicted\")\n",
        "        plt.ylabel(\"Actual\")\n",
        "        plt.title(\"Confusion Matrix\")\n",
        "        plt.show()\n",
        "    clr = classification_report(y_true, y_pred, target_names=classes)\n",
        "    print(\"Classification Report:\\n----------------------\\n\", clr)"
      ],
      "metadata": {
        "id": "_YKfEvdWttjb"
      },
      "execution_count": 27,
      "outputs": []
    },
    {
      "cell_type": "code",
      "source": [
        "working_dir= \"/content/gdrive/MyDrive/FAI/\""
      ],
      "metadata": {
        "id": "iUWi8jNBMDvg"
      },
      "execution_count": 42,
      "outputs": []
    },
    {
      "cell_type": "code",
      "source": [
        "history.history"
      ],
      "metadata": {
        "colab": {
          "base_uri": "https://localhost:8080/"
        },
        "id": "XugYuWhLb40n",
        "outputId": "aaad53d8-05f9-48f8-bd81-d7aad7e809db"
      },
      "execution_count": 59,
      "outputs": [
        {
          "output_type": "execute_result",
          "data": {
            "text/plain": [
              "{'loss': [4.777256011962891,\n",
              "  2.0447514057159424,\n",
              "  1.1010714769363403,\n",
              "  0.7074804306030273,\n",
              "  0.5673686861991882],\n",
              " 'accuracy': [0.8562477231025696,\n",
              "  0.9127656817436218,\n",
              "  0.9221034646034241,\n",
              "  0.9307039976119995,\n",
              "  0.9424991011619568],\n",
              " 'f1_score': [0.8562530875205994,\n",
              "  0.9127578735351562,\n",
              "  0.9221127033233643,\n",
              "  0.930706262588501,\n",
              "  0.9425063729286194],\n",
              " 'val_loss': [2.8134560585021973,\n",
              "  1.3827275037765503,\n",
              "  0.8047990202903748,\n",
              "  0.5624560713768005,\n",
              "  0.5209750533103943],\n",
              " 'val_accuracy': [0.9390363693237305,\n",
              "  0.9518190622329712,\n",
              "  0.9577187895774841,\n",
              "  0.95476895570755,\n",
              "  0.9577187895774841],\n",
              " 'val_f1_score': [0.9392157196998596,\n",
              "  0.951788067817688,\n",
              "  0.9578434228897095,\n",
              "  0.9547291398048401,\n",
              "  0.9578433036804199],\n",
              " 'lr': [0.00095, 0.00095, 0.00095, 9.025e-05, 9.0250005e-06]}"
            ]
          },
          "metadata": {},
          "execution_count": 59
        }
      ]
    },
    {
      "cell_type": "code",
      "source": [
        "def plot_diagnostics(history):\n",
        "  plt.subplot(1,2,1)\n",
        "  plt.title(\"Binary Cross Entropy Loss\")\n",
        "  plt.plot(history.history['loss'],color=\"blue\",label=\"Train\")\n",
        "  plt.plot(history.history['val_loss'],color=\"red\",label=\"Validation\")\n",
        "  plt.xlabel(\"Epoch\")\n",
        "  plt.ylabel(\"Loss\")\n",
        "  plt.legend()\n",
        "  plt.subplot(1,2,2)\n",
        "  plt.title(\"Accuracy\")\n",
        "  plt.plot(history.history['acc'],color=\"blue\",label=\"Train\")\n",
        "  plt.plot(history.history['val_acc'],color=\"red\",label=\"Validation\")\n",
        "  plt.ylabel(\"% Accurate\")\n",
        "  plt.xlabel(\"Epoch\")\n",
        "  plt.legend()\n",
        "  plt.show()"
      ],
      "metadata": {
        "id": "qhQ__wxRb2xh"
      },
      "execution_count": null,
      "outputs": []
    },
    {
      "cell_type": "code",
      "source": [
        "def tr_plot(tr_data, start_epoch):\n",
        "    #Plot the training and validation data\n",
        "    tacc=tr_data.history['f1_score']\n",
        "    tloss=tr_data.history['loss']\n",
        "    vacc=tr_data.history['val_f1_score']\n",
        "    vloss=tr_data.history['val_loss']\n",
        "    Epoch_count=len(tacc)+ start_epoch\n",
        "    Epochs=[]\n",
        "    for i in range (start_epoch ,Epoch_count):\n",
        "        Epochs.append(i+1)   \n",
        "    index_loss=np.argmin(vloss)#  this is the epoch with the lowest validation loss\n",
        "    val_lowest=vloss[index_loss]\n",
        "    index_acc=np.argmax(vacc)\n",
        "    acc_highest=vacc[index_acc]\n",
        "    plt.style.use('fivethirtyeight')\n",
        "    sc_label='Best Epoch= '+ str(index_loss+1 +start_epoch)\n",
        "    vc_label='Best Epoch= '+ str(index_acc + 1+ start_epoch)\n",
        "    fig,axes=plt.subplots(nrows=1, ncols=2, figsize=(20,8))\n",
        "    axes[0].plot(Epochs,tloss, 'r', label='Training')\n",
        "    axes[0].plot(Epochs,vloss,'g',label='Validation' )\n",
        "    axes[0].scatter(index_loss+1 +start_epoch,val_lowest, s=150, c= 'blue', label=sc_label)\n",
        "    axes[0].set_title('Binary Loss Dynamics')\n",
        "    axes[0].set_xlabel('Epoch')\n",
        "    axes[0].set_ylabel('Loss')\n",
        "    axes[0].legend()\n",
        "    axes[1].plot (Epochs,tacc,'r',label= 'Training')\n",
        "    axes[1].plot (Epochs,vacc,'g',label= 'Validation')\n",
        "    axes[1].scatter(index_acc+1 +start_epoch,acc_highest, s=150, c= 'blue', label=vc_label)\n",
        "    axes[1].set_title('F1-Score Dynamics')\n",
        "    axes[1].set_xlabel('Epoch')\n",
        "    axes[1].set_ylabel('F1-Score')\n",
        "    axes[1].legend()\n",
        "    plt.tight_layout\n",
        "    #plt.style.use('fivethirtyeight')\n",
        "    plt.show()"
      ],
      "metadata": {
        "id": "xYSLKXVFNEsN"
      },
      "execution_count": 67,
      "outputs": []
    },
    {
      "cell_type": "code",
      "source": [
        "def saver(save_path, model, model_name, subject, accuracy,img_size, scalar, generator):\n",
        "    # first save the model\n",
        "    save_id=str (model_name +  '-' + subject +'-'+ str(acc)[:str(acc).rfind('.')+3] + '.h5')\n",
        "    model_save_loc=os.path.join(save_path, save_id)\n",
        "    model.save(model_save_loc)\n",
        "    print_in_color ('model was saved as ' + model_save_loc, (0,255,0),(55,65,80)) \n",
        "    # now create the class_df and convert to csv file    \n",
        "    class_dict=generator.class_indices \n",
        "    height=[]\n",
        "    width=[]\n",
        "    scale=[]\n",
        "    for i in range(len(class_dict)):\n",
        "        height.append(img_size[0])\n",
        "        width.append(img_size[1])\n",
        "        scale.append(scalar)\n",
        "    Index_series=pd.Series(list(class_dict.values()), name='class_index')\n",
        "    Class_series=pd.Series(list(class_dict.keys()), name='class') \n",
        "    Height_series=pd.Series(height, name='height')\n",
        "    Width_series=pd.Series(width, name='width')\n",
        "    Scale_series=pd.Series(scale, name='scale by')\n",
        "    class_df=pd.concat([Index_series, Class_series, Height_series, Width_series, Scale_series], axis=1)    \n",
        "    csv_name='class_dict.csv'\n",
        "    csv_save_loc=os.path.join(save_path, csv_name)\n",
        "    class_df.to_csv(csv_save_loc, index=False) \n",
        "    print_in_color ('class csv file was saved as ' + csv_save_loc, (0,255,0),(55,65,80)) \n",
        "    return model_save_loc, csv_save_loc"
      ],
      "metadata": {
        "id": "XoCbVS6hNOiD"
      },
      "execution_count": 44,
      "outputs": []
    },
    {
      "cell_type": "code",
      "source": [
        "tr_plot(history2,0)\n",
        "subject='brain tumors'\n",
        "acc=model.evaluate( test_gen, verbose=1, steps=test_steps, return_dict=False)[1]*100\n",
        "msg=f'accuracy on the test set is {acc:5.2f} %'\n",
        "print_in_color(msg, (0,255,0),(55,65,80))\n",
        "generator=train_gen\n",
        "scale = 1\n",
        "model_save_loc, csv_save_loc=saver(working_dir, model, model_name, subject, acc, img_size, scale,  generator)"
      ],
      "metadata": {
        "colab": {
          "base_uri": "https://localhost:8080/",
          "height": 609
        },
        "id": "2Myo458mMGOk",
        "outputId": "64d1a064-cd52-4dce-bf81-fec854d7e486"
      },
      "execution_count": 68,
      "outputs": [
        {
          "output_type": "display_data",
          "data": {
            "text/plain": [
              "<Figure size 1440x576 with 2 Axes>"
            ],
            "image/png": "[encoded data removed]"
          },
          "metadata": {}
        },
        {
          "output_type": "error",
          "ename": "NameError",
          "evalue": "ignored",
          "traceback": [
            "\u001b[0;31m---------------------------------------------------------------------------\u001b[0m",
            "\u001b[0;31mNameError\u001b[0m                                 Traceback (most recent call last)",
            "\u001b[0;32m<ipython-input-68-87e3f560eadc>\u001b[0m in \u001b[0;36m<module>\u001b[0;34m\u001b[0m\n\u001b[1;32m      1\u001b[0m \u001b[0mtr_plot\u001b[0m\u001b[0;34m(\u001b[0m\u001b[0mhistory2\u001b[0m\u001b[0;34m,\u001b[0m\u001b[0;36m0\u001b[0m\u001b[0;34m)\u001b[0m\u001b[0;34m\u001b[0m\u001b[0;34m\u001b[0m\u001b[0m\n\u001b[1;32m      2\u001b[0m \u001b[0msubject\u001b[0m\u001b[0;34m=\u001b[0m\u001b[0;34m'brain tumors'\u001b[0m\u001b[0;34m\u001b[0m\u001b[0;34m\u001b[0m\u001b[0m\n\u001b[0;32m----> 3\u001b[0;31m \u001b[0macc\u001b[0m\u001b[0;34m=\u001b[0m\u001b[0mmodel\u001b[0m\u001b[0;34m.\u001b[0m\u001b[0mevaluate\u001b[0m\u001b[0;34m(\u001b[0m \u001b[0mtest_gen\u001b[0m\u001b[0;34m,\u001b[0m \u001b[0mverbose\u001b[0m\u001b[0;34m=\u001b[0m\u001b[0;36m1\u001b[0m\u001b[0;34m,\u001b[0m \u001b[0msteps\u001b[0m\u001b[0;34m=\u001b[0m\u001b[0mtest_steps\u001b[0m\u001b[0;34m,\u001b[0m \u001b[0mreturn_dict\u001b[0m\u001b[0;34m=\u001b[0m\u001b[0;32mFalse\u001b[0m\u001b[0;34m)\u001b[0m\u001b[0;34m[\u001b[0m\u001b[0;36m1\u001b[0m\u001b[0;34m]\u001b[0m\u001b[0;34m*\u001b[0m\u001b[0;36m100\u001b[0m\u001b[0;34m\u001b[0m\u001b[0;34m\u001b[0m\u001b[0m\n\u001b[0m\u001b[1;32m      4\u001b[0m \u001b[0mmsg\u001b[0m\u001b[0;34m=\u001b[0m\u001b[0;34mf'accuracy on the test set is {acc:5.2f} %'\u001b[0m\u001b[0;34m\u001b[0m\u001b[0;34m\u001b[0m\u001b[0m\n\u001b[1;32m      5\u001b[0m \u001b[0mprint_in_color\u001b[0m\u001b[0;34m(\u001b[0m\u001b[0mmsg\u001b[0m\u001b[0;34m,\u001b[0m \u001b[0;34m(\u001b[0m\u001b[0;36m0\u001b[0m\u001b[0;34m,\u001b[0m\u001b[0;36m255\u001b[0m\u001b[0;34m,\u001b[0m\u001b[0;36m0\u001b[0m\u001b[0;34m)\u001b[0m\u001b[0;34m,\u001b[0m\u001b[0;34m(\u001b[0m\u001b[0;36m55\u001b[0m\u001b[0;34m,\u001b[0m\u001b[0;36m65\u001b[0m\u001b[0;34m,\u001b[0m\u001b[0;36m80\u001b[0m\u001b[0;34m)\u001b[0m\u001b[0;34m)\u001b[0m\u001b[0;34m\u001b[0m\u001b[0;34m\u001b[0m\u001b[0m\n",
            "\u001b[0;31mNameError\u001b[0m: name 'test_steps' is not defined"
          ]
        }
      ]
    },
    {
      "cell_type": "code",
      "source": [
        "from sklearn.metrics import confusion_matrix, ConfusionMatrixDisplay\n",
        "\n",
        "predictions = model.predict(test_gen)\n",
        "print(predictions)\n",
        "predictedLabels = np.argmax(predictions, axis=1)\n",
        "print(predictedLabels)\n",
        "cm = confusion_matrix(test_gen.classes, predictedLabels)\n",
        "disp = ConfusionMatrixDisplay(confusion_matrix=cm, \n",
        "                              display_labels=test_gen.class_indices.keys())\n",
        "\n",
        "disp.plot()\n",
        "plt.tick_params(axis=u'both', which=u'both',length=0)\n",
        "plt.grid(b=None)\n",
        "plt.show()"
      ],
      "metadata": {
        "colab": {
          "base_uri": "https://localhost:8080/",
          "height": 468
        },
        "id": "1yjtKsG3tig2",
        "outputId": "9820fed7-9535-46e9-9a47-1f3956f5b98e"
      },
      "execution_count": 71,
      "outputs": [
        {
          "output_type": "stream",
          "name": "stdout",
          "text": [
            "32/32 [==============================] - 8s 264ms/step\n",
            "[[0.98275787 0.01724211]\n",
            " [0.98854953 0.01145041]\n",
            " [0.97812736 0.0218727 ]\n",
            " ...\n",
            " [0.00363726 0.99636275]\n",
            " [0.145724   0.85427606]\n",
            " [0.02420832 0.9757917 ]]\n",
            "[0 0 0 ... 1 1 1]\n"
          ]
        },
        {
          "output_type": "display_data",
          "data": {
            "text/plain": [
              "<Figure size 432x288 with 2 Axes>"
            ],
            "image/png": "[encoded data removed]"
          },
          "metadata": {}
        }
      ]
    },
    {
      "cell_type": "code",
      "source": [
        "from sklearn.metrics import auc\n",
        "from sklearn.metrics import roc_curve\n"
      ],
      "metadata": {
        "id": "t9WWZKaaz6cZ"
      },
      "execution_count": 78,
      "outputs": []
    },
    {
      "cell_type": "code",
      "source": [
        "preds = model.predict(test_gen,\n",
        "verbose=1)\n",
        "preds"
      ],
      "metadata": {
        "colab": {
          "base_uri": "https://localhost:8080/"
        },
        "id": "zehGm1Po0Pmr",
        "outputId": "0aba942f-e061-4f87-f0c8-e6c15673fdcb"
      },
      "execution_count": 81,
      "outputs": [
        {
          "output_type": "stream",
          "name": "stdout",
          "text": [
            "32/32 [==============================] - 8s 264ms/step\n"
          ]
        },
        {
          "output_type": "execute_result",
          "data": {
            "text/plain": [
              "array([[0.98275787, 0.01724211],\n",
              "       [0.98854953, 0.01145041],\n",
              "       [0.97812736, 0.0218727 ],\n",
              "       ...,\n",
              "       [0.00363726, 0.99636275],\n",
              "       [0.145724  , 0.85427606],\n",
              "       [0.02420832, 0.9757917 ]], dtype=float32)"
            ]
          },
          "metadata": {},
          "execution_count": 81
        }
      ]
    },
    {
      "cell_type": "code",
      "source": [
        "y_pred_keras = model.predict(test_gen).ravel()\n",
        "y_pred_keras"
      ],
      "metadata": {
        "colab": {
          "base_uri": "https://localhost:8080/"
        },
        "id": "IX6ZVe9ywCmL",
        "outputId": "b93691dd-8279-46d9-98ba-dff13e03da3d"
      },
      "execution_count": 84,
      "outputs": [
        {
          "output_type": "stream",
          "name": "stdout",
          "text": [
            "32/32 [==============================] - 8s 264ms/step\n"
          ]
        },
        {
          "output_type": "execute_result",
          "data": {
            "text/plain": [
              "array([0.98275787, 0.01724211, 0.98854953, ..., 0.85427606, 0.02420832,\n",
              "       0.9757917 ], dtype=float32)"
            ]
          },
          "metadata": {},
          "execution_count": 84
        }
      ]
    },
    {
      "cell_type": "code",
      "source": [
        "fpr, tpr, _ = roc_curve(test_gen.classes, preds[:,1])\n",
        "roc_auc = auc(fpr, tpr)\n",
        "plt.figure()\n",
        "lw = 2\n",
        "plt.plot(fpr, tpr, color='darkorange',\n",
        "lw=lw, label='ROC curve (area = %0.2f)' % roc_auc)\n",
        "plt.plot([0, 1], [0, 1], color='navy', lw=lw, linestyle='--')\n",
        "plt.xlim([0.0, 1.0])\n",
        "plt.ylim([0.0, 1.05])\n",
        "plt.xlabel('False Positive Rate')\n",
        "plt.ylabel('True Positive Rate')\n",
        "plt.title('Receiver Cperating Characteristic Curve')\n",
        "plt.legend(loc=\"lower right\")\n",
        "plt.show()"
      ],
      "metadata": {
        "colab": {
          "base_uri": "https://localhost:8080/",
          "height": 325
        },
        "id": "Qn9aVHnrwYZX",
        "outputId": "3921376b-94c0-4ff0-b1a9-0f5a60a7657a"
      },
      "execution_count": 88,
      "outputs": [
        {
          "output_type": "display_data",
          "data": {
            "text/plain": [
              "<Figure size 432x288 with 1 Axes>"
            ],
            "image/png": "[encoded data removed]"
          },
          "metadata": {}
        }
      ]
    },
    {
      "cell_type": "code",
      "source": [
        "from sklearn.metrics import roc_curve\n",
        "fpr_keras, tpr_keras, thresholds_keras = roc_curve(test_gen.classes, y_pred_keras)"
      ],
      "metadata": {
        "colab": {
          "base_uri": "https://localhost:8080/",
          "height": 336
        },
        "id": "sJfW9ZYtvfGp",
        "outputId": "b772461b-69f1-4d16-833d-2d0777abbd7e"
      },
      "execution_count": 77,
      "outputs": [
        {
          "output_type": "error",
          "ename": "ValueError",
          "evalue": "ignored",
          "traceback": [
            "\u001b[0;31m---------------------------------------------------------------------------\u001b[0m",
            "\u001b[0;31mValueError\u001b[0m                                Traceback (most recent call last)",
            "\u001b[0;32m<ipython-input-77-8d48290586fe>\u001b[0m in \u001b[0;36m<module>\u001b[0;34m\u001b[0m\n\u001b[1;32m      1\u001b[0m \u001b[0;32mfrom\u001b[0m \u001b[0msklearn\u001b[0m\u001b[0;34m.\u001b[0m\u001b[0mmetrics\u001b[0m \u001b[0;32mimport\u001b[0m \u001b[0mroc_curve\u001b[0m\u001b[0;34m\u001b[0m\u001b[0;34m\u001b[0m\u001b[0m\n\u001b[0;32m----> 2\u001b[0;31m \u001b[0mfpr_keras\u001b[0m\u001b[0;34m,\u001b[0m \u001b[0mtpr_keras\u001b[0m\u001b[0;34m,\u001b[0m \u001b[0mthresholds_keras\u001b[0m \u001b[0;34m=\u001b[0m \u001b[0mroc_curve\u001b[0m\u001b[0;34m(\u001b[0m\u001b[0mtest_gen\u001b[0m\u001b[0;34m.\u001b[0m\u001b[0mclasses\u001b[0m\u001b[0;34m,\u001b[0m \u001b[0my_pred_keras\u001b[0m\u001b[0;34m)\u001b[0m\u001b[0;34m\u001b[0m\u001b[0;34m\u001b[0m\u001b[0m\n\u001b[0m",
            "\u001b[0;32m/usr/local/lib/python3.8/dist-packages/sklearn/metrics/_ranking.py\u001b[0m in \u001b[0;36mroc_curve\u001b[0;34m(y_true, y_score, pos_label, sample_weight, drop_intermediate)\u001b[0m\n\u001b[1;32m    960\u001b[0m \u001b[0;34m\u001b[0m\u001b[0m\n\u001b[1;32m    961\u001b[0m     \"\"\"\n\u001b[0;32m--> 962\u001b[0;31m     fps, tps, thresholds = _binary_clf_curve(\n\u001b[0m\u001b[1;32m    963\u001b[0m         \u001b[0my_true\u001b[0m\u001b[0;34m,\u001b[0m \u001b[0my_score\u001b[0m\u001b[0;34m,\u001b[0m \u001b[0mpos_label\u001b[0m\u001b[0;34m=\u001b[0m\u001b[0mpos_label\u001b[0m\u001b[0;34m,\u001b[0m \u001b[0msample_weight\u001b[0m\u001b[0;34m=\u001b[0m\u001b[0msample_weight\u001b[0m\u001b[0;34m\u001b[0m\u001b[0;34m\u001b[0m\u001b[0m\n\u001b[1;32m    964\u001b[0m     )\n",
            "\u001b[0;32m/usr/local/lib/python3.8/dist-packages/sklearn/metrics/_ranking.py\u001b[0m in \u001b[0;36m_binary_clf_curve\u001b[0;34m(y_true, y_score, pos_label, sample_weight)\u001b[0m\n\u001b[1;32m    731\u001b[0m         \u001b[0;32mraise\u001b[0m \u001b[0mValueError\u001b[0m\u001b[0;34m(\u001b[0m\u001b[0;34m\"{0} format is not supported\"\u001b[0m\u001b[0;34m.\u001b[0m\u001b[0mformat\u001b[0m\u001b[0;34m(\u001b[0m\u001b[0my_type\u001b[0m\u001b[0;34m)\u001b[0m\u001b[0;34m)\u001b[0m\u001b[0;34m\u001b[0m\u001b[0;34m\u001b[0m\u001b[0m\n\u001b[1;32m    732\u001b[0m \u001b[0;34m\u001b[0m\u001b[0m\n\u001b[0;32m--> 733\u001b[0;31m     \u001b[0mcheck_consistent_length\u001b[0m\u001b[0;34m(\u001b[0m\u001b[0my_true\u001b[0m\u001b[0;34m,\u001b[0m \u001b[0my_score\u001b[0m\u001b[0;34m,\u001b[0m \u001b[0msample_weight\u001b[0m\u001b[0;34m)\u001b[0m\u001b[0;34m\u001b[0m\u001b[0;34m\u001b[0m\u001b[0m\n\u001b[0m\u001b[1;32m    734\u001b[0m     \u001b[0my_true\u001b[0m \u001b[0;34m=\u001b[0m \u001b[0mcolumn_or_1d\u001b[0m\u001b[0;34m(\u001b[0m\u001b[0my_true\u001b[0m\u001b[0;34m)\u001b[0m\u001b[0;34m\u001b[0m\u001b[0;34m\u001b[0m\u001b[0m\n\u001b[1;32m    735\u001b[0m     \u001b[0my_score\u001b[0m \u001b[0;34m=\u001b[0m \u001b[0mcolumn_or_1d\u001b[0m\u001b[0;34m(\u001b[0m\u001b[0my_score\u001b[0m\u001b[0;34m)\u001b[0m\u001b[0;34m\u001b[0m\u001b[0;34m\u001b[0m\u001b[0m\n",
            "\u001b[0;32m/usr/local/lib/python3.8/dist-packages/sklearn/utils/validation.py\u001b[0m in \u001b[0;36mcheck_consistent_length\u001b[0;34m(*arrays)\u001b[0m\n\u001b[1;32m    330\u001b[0m     \u001b[0muniques\u001b[0m \u001b[0;34m=\u001b[0m \u001b[0mnp\u001b[0m\u001b[0;34m.\u001b[0m\u001b[0munique\u001b[0m\u001b[0;34m(\u001b[0m\u001b[0mlengths\u001b[0m\u001b[0;34m)\u001b[0m\u001b[0;34m\u001b[0m\u001b[0;34m\u001b[0m\u001b[0m\n\u001b[1;32m    331\u001b[0m     \u001b[0;32mif\u001b[0m \u001b[0mlen\u001b[0m\u001b[0;34m(\u001b[0m\u001b[0muniques\u001b[0m\u001b[0;34m)\u001b[0m \u001b[0;34m>\u001b[0m \u001b[0;36m1\u001b[0m\u001b[0;34m:\u001b[0m\u001b[0;34m\u001b[0m\u001b[0;34m\u001b[0m\u001b[0m\n\u001b[0;32m--> 332\u001b[0;31m         raise ValueError(\n\u001b[0m\u001b[1;32m    333\u001b[0m             \u001b[0;34m\"Found input variables with inconsistent numbers of samples: %r\"\u001b[0m\u001b[0;34m\u001b[0m\u001b[0;34m\u001b[0m\u001b[0m\n\u001b[1;32m    334\u001b[0m             \u001b[0;34m%\u001b[0m \u001b[0;34m[\u001b[0m\u001b[0mint\u001b[0m\u001b[0;34m(\u001b[0m\u001b[0ml\u001b[0m\u001b[0;34m)\u001b[0m \u001b[0;32mfor\u001b[0m \u001b[0ml\u001b[0m \u001b[0;32min\u001b[0m \u001b[0mlengths\u001b[0m\u001b[0;34m]\u001b[0m\u001b[0;34m\u001b[0m\u001b[0;34m\u001b[0m\u001b[0m\n",
            "\u001b[0;31mValueError\u001b[0m: Found input variables with inconsistent numbers of samples: [1019, 2038]"
          ]
        }
      ]
    },
    {
      "cell_type": "code",
      "source": [
        "misclassificationIndexList = []\n",
        "\n",
        "for i, p in enumerate(predictedLabels):     \n",
        "    true_label=test_gen.classes[i]  # labels are integer values\n",
        "    if p != true_label: # a misclassification has occurred\n",
        "      misclassificationIndexList.append(test_gen.filenames[i]) "
      ],
      "metadata": {
        "id": "le0TI1ezz3_f"
      },
      "execution_count": 94,
      "outputs": []
    },
    {
      "cell_type": "code",
      "source": [
        "DS4_len = len([s for s in test_gen.filenames if \"DS4\" in s])\n",
        "DS3_len = len([s for s in test_gen.filenames if \"DS3\" in s])\n",
        "DS2_len = len([s for s in test_gen.filenames if \"DS2\" in s])\n",
        "DS1_len = len([s for s in test_gen.filenames if \"DS1\" in s])\n",
        "\n",
        "\n",
        "d = {'Dataset': [\"DS1\", \"DS1\", \"DS2\",\"DS2\",\"DS3\", \"DS3\",\"DS4\", \"DS4\"],\n",
        "     '%Misclassified': [0/DS1_len, 2/DS1_len, 3/DS2_len,0/DS2_len,11/DS3_len, 6/DS3_len,\n",
        "                       0/DS4_len, 0/DS4_len],\n",
        "     'Class': [\"Normal\", \"Tumor\", \"Normal\", \"Tumor\",\"Normal\", \"Tumor\",\"Normal\", \"Tumor\"]}\n",
        "df = pd.DataFrame(data=d)\n",
        "sns.barplot(data=df, x=\"Dataset\", y=\"%Misclassified\", hue=\"Class\")"
      ],
      "metadata": {
        "colab": {
          "base_uri": "https://localhost:8080/",
          "height": 322
        },
        "id": "ZzylcuPAAmLR",
        "outputId": "a0ce9927-447d-4344-a7de-2560613c9a3b"
      },
      "execution_count": 104,
      "outputs": [
        {
          "output_type": "execute_result",
          "data": {
            "text/plain": [
              "<matplotlib.axes._subplots.AxesSubplot at 0x7fb08ccd7df0>"
            ]
          },
          "metadata": {},
          "execution_count": 104
        },
        {
          "output_type": "display_data",
          "data": {
            "text/plain": [
              "<Figure size 432x288 with 1 Axes>"
            ],
            "image/png": "[encoded data removed]"
          },
          "metadata": {}
        }
      ]
    },
    {
      "cell_type": "code",
      "source": [
        "model.save(\"/content/gdrive/MyDrive/FAI/ENB4_BrainTumorClassifier.h5\")"
      ],
      "metadata": {
        "id": "_YL8XokpEKn1"
      },
      "execution_count": 105,
      "outputs": []
    },
    {
      "cell_type": "code",
      "source": [
        "misclassificationIndexList\n",
        "#DS4 0\n",
        "#DS3 11 + 6\n",
        "#DS2 3 + 0\n",
        "#DS1 0 + 2"
      ],
      "metadata": {
        "colab": {
          "base_uri": "https://localhost:8080/"
        },
        "id": "Yjrv3Ikv66BB",
        "outputId": "07f9149d-13d3-44c4-a131-97b8bd202bfe"
      },
      "execution_count": 96,
      "outputs": [
        {
          "output_type": "execute_result",
          "data": {
            "text/plain": [
              "['Normal/DS2_T0_C0_image (42).jpg',\n",
              " 'Normal/DS2_T0_C0_image(111).jpg',\n",
              " 'Normal/DS2_T0_C0_image(126).jpg',\n",
              " 'Normal/DS3_T0_Image1144.jpg',\n",
              " 'Normal/DS3_T0_Image1147.jpg',\n",
              " 'Normal/DS3_T0_Image1428.jpg',\n",
              " 'Normal/DS3_T0_Image1570.jpg',\n",
              " 'Normal/DS3_T0_Image1939.jpg',\n",
              " 'Normal/DS3_T0_Image2110.jpg',\n",
              " 'Normal/DS3_T0_Image2667.jpg',\n",
              " 'Normal/DS3_T0_Image3296.jpg',\n",
              " 'Normal/DS3_T0_Image3593.jpg',\n",
              " 'Normal/DS3_T0_Image65.jpg',\n",
              " 'Normal/DS3_T0_Image852.jpg',\n",
              " 'Tumor/DS1_T1_y1375.jpg',\n",
              " 'Tumor/DS1_T1_y1461.jpg',\n",
              " 'Tumor/DS3_T1_Image1312.jpg',\n",
              " 'Tumor/DS3_T1_Image1460.jpg',\n",
              " 'Tumor/DS3_T1_Image2831.jpg',\n",
              " 'Tumor/DS3_T1_Image3038.jpg',\n",
              " 'Tumor/DS3_T1_Image3173.jpg',\n",
              " 'Tumor/DS3_T1_Image3258.jpg']"
            ]
          },
          "metadata": {},
          "execution_count": 96
        }
      ]
    },
    {
      "cell_type": "code",
      "source": [
        "print_code=0\n",
        "subject='brain tumors'\n",
        "\n",
        "preds=model.predict(test_gen, steps=num_test//batch_size, verbose=1) \n",
        "print_info( test_gen, preds, print_code, working_dir, subject ) "
      ],
      "metadata": {
        "colab": {
          "base_uri": "https://localhost:8080/",
          "height": 900
        },
        "id": "DFdHbeDC08NU",
        "outputId": "7d450037-06ee-425b-839b-32ad373c2ad0"
      },
      "execution_count": 69,
      "outputs": [
        {
          "output_type": "stream",
          "name": "stdout",
          "text": [
            "50/50 [==============================] - 11s 170ms/step\n"
          ]
        },
        {
          "output_type": "display_data",
          "data": {
            "text/plain": [
              "<Figure size 720x48 with 1 Axes>"
            ],
            "image/png": "[encoded data removed]"
          },
          "metadata": {}
        },
        {
          "output_type": "display_data",
          "data": {
            "text/plain": [
              "<Figure size 576x576 with 1 Axes>"
            ],
            "image/png": "[encoded data removed]"
          },
          "metadata": {}
        },
        {
          "output_type": "stream",
          "name": "stdout",
          "text": [
            "Classification Report:\n",
            "----------------------\n",
            "               precision    recall  f1-score   support\n",
            "\n",
            "      Normal       0.98      0.97      0.97       408\n",
            "       Tumor       0.98      0.99      0.98       611\n",
            "\n",
            "    accuracy                           0.98      1019\n",
            "   macro avg       0.98      0.98      0.98      1019\n",
            "weighted avg       0.98      0.98      0.98      1019\n",
            "\n"
          ]
        }
      ]
    },
    {
      "cell_type": "code",
      "source": [
        "img_size=(224,224)\n",
        "channels=3\n",
        "batch_size=20\n",
        "img_shape=(img_size[0], img_size[1], channels)\n",
        "\n",
        "gen=ImageDataGenerator(ImageDataGenerator(rescale = 1./255))\n",
        "\n",
        "train_gen=gen.flow_from_directory(directory = train, target_size=img_size, class_mode='categorical',\n",
        "                                    color_mode='rgb', shuffle=True, batch_size=batch_size)\n",
        "\n",
        "test_gen=gen.flow_from_directory(directory = test, target_size=img_size, class_mode='categorical',\n",
        "                                    color_mode='rgb', shuffle=False, batch_size=batch_size)\n",
        "\n",
        "valid_gen=gen.flow_from_directory(directory = val, target_size=img_size, class_mode='categorical',\n",
        "                                    color_mode='rgb', shuffle=True, batch_size=batch_size)"
      ],
      "metadata": {
        "colab": {
          "base_uri": "https://localhost:8080/"
        },
        "id": "jEap5lwry_Oy",
        "outputId": "b7be8735-5e18-4b89-843c-ae831f647f2f"
      },
      "execution_count": 31,
      "outputs": [
        {
          "output_type": "stream",
          "name": "stdout",
          "text": [
            "Found 2400 images belonging to 2 classes.\n",
            "Found 300 images belonging to 2 classes.\n",
            "Found 300 images belonging to 2 classes.\n"
          ]
        }
      ]
    },
    {
      "cell_type": "code",
      "source": [
        "model_name='VGG16'\n",
        "base_model = tf.keras.applications.VGG16(input_shape=(224,224,3),\n",
        "                                                include_top=False, weights=\"imagenet\")\n",
        "base_model.trainable = False\n",
        "x=base_model.output\n",
        "x=keras.layers.BatchNormalization(axis=-1, momentum=0.99, epsilon=0.001 )(x)\n",
        "x = Dense(256, kernel_regularizer = regularizers.l2(l = 0.016),activity_regularizer=regularizers.l1(0.006),\n",
        "                bias_regularizer=regularizers.l1(0.006) ,activation='relu')(x)\n",
        "x=Dropout(rate=.45, seed=123)(x)        \n",
        "output=Dense(2, activation='softmax', name=\"pred\")(x)\n",
        "model=Model(inputs=base_model.input, outputs=output)\n",
        "model.compile(Adamax(learning_rate=.001), loss='categorical_crossentropy', metrics=['accuracy',f1_score])"
      ],
      "metadata": {
        "id": "eLLT1-PVzw5f"
      },
      "execution_count": 33,
      "outputs": []
    },
    {
      "cell_type": "code",
      "source": [
        "model.summary()"
      ],
      "metadata": {
        "colab": {
          "base_uri": "https://localhost:8080/"
        },
        "id": "VLSkrA6i0HA9",
        "outputId": "19aff47d-ef09-4ae5-f6da-0f45b1d1d844"
      },
      "execution_count": 28,
      "outputs": [
        {
          "output_type": "stream",
          "name": "stdout",
          "text": [
            "Model: \"model_2\"\n",
            "_________________________________________________________________\n",
            " Layer (type)                Output Shape              Param #   \n",
            "=================================================================\n",
            " input_3 (InputLayer)        [(None, 224, 224, 3)]     0         \n",
            "                                                                 \n",
            " block1_conv1 (Conv2D)       (None, 224, 224, 64)      1792      \n",
            "                                                                 \n",
            " block1_conv2 (Conv2D)       (None, 224, 224, 64)      36928     \n",
            "                                                                 \n",
            " block1_pool (MaxPooling2D)  (None, 112, 112, 64)      0         \n",
            "                                                                 \n",
            " block2_conv1 (Conv2D)       (None, 112, 112, 128)     73856     \n",
            "                                                                 \n",
            " block2_conv2 (Conv2D)       (None, 112, 112, 128)     147584    \n",
            "                                                                 \n",
            " block2_pool (MaxPooling2D)  (None, 56, 56, 128)       0         \n",
            "                                                                 \n",
            " block3_conv1 (Conv2D)       (None, 56, 56, 256)       295168    \n",
            "                                                                 \n",
            " block3_conv2 (Conv2D)       (None, 56, 56, 256)       590080    \n",
            "                                                                 \n",
            " block3_conv3 (Conv2D)       (None, 56, 56, 256)       590080    \n",
            "                                                                 \n",
            " block3_pool (MaxPooling2D)  (None, 28, 28, 256)       0         \n",
            "                                                                 \n",
            " block4_conv1 (Conv2D)       (None, 28, 28, 512)       1180160   \n",
            "                                                                 \n",
            " block4_conv2 (Conv2D)       (None, 28, 28, 512)       2359808   \n",
            "                                                                 \n",
            " block4_conv3 (Conv2D)       (None, 28, 28, 512)       2359808   \n",
            "                                                                 \n",
            " block4_pool (MaxPooling2D)  (None, 14, 14, 512)       0         \n",
            "                                                                 \n",
            " block5_conv1 (Conv2D)       (None, 14, 14, 512)       2359808   \n",
            "                                                                 \n",
            " block5_conv2 (Conv2D)       (None, 14, 14, 512)       2359808   \n",
            "                                                                 \n",
            " block5_conv3 (Conv2D)       (None, 14, 14, 512)       2359808   \n",
            "                                                                 \n",
            " block5_pool (MaxPooling2D)  (None, 7, 7, 512)         0         \n",
            "                                                                 \n",
            " batch_normalization_2 (Batc  (None, 7, 7, 512)        2048      \n",
            " hNormalization)                                                 \n",
            "                                                                 \n",
            " dense_2 (Dense)             (None, 7, 7, 256)         131328    \n",
            "                                                                 \n",
            " dropout_2 (Dropout)         (None, 7, 7, 256)         0         \n",
            "                                                                 \n",
            " pred (Dense)                (None, 7, 7, 2)           514       \n",
            "                                                                 \n",
            "=================================================================\n",
            "Total params: 14,848,578\n",
            "Trainable params: 132,866\n",
            "Non-trainable params: 14,715,712\n",
            "_________________________________________________________________\n"
          ]
        }
      ]
    },
    {
      "cell_type": "code",
      "source": [
        "from tensorflow.keras.callbacks import Callback,ModelCheckpoint,EarlyStopping,ReduceLROnPlateau,LearningRateScheduler\n",
        "\n",
        "\n",
        "#callback to stop the training if your validation accuracy is not increased in last 2 epochs\n",
        "callback1 = EarlyStopping( monitor=\"val_accuracy\",\n",
        "                           patience=2,\n",
        "                           verbose=1,\n",
        "                           mode=\"auto\",\n",
        "                           min_delta=0 )\n",
        "\n",
        "#callback to decay learning based on below conditions \n",
        "#Cond1. If validation accuracy at that epoch is less than previous epoch accuracy, decrease the learning rate by 10%. \n",
        "#Cond2. For every 3rd epoch, decay learning rate by 5%\n",
        "#for Cond1:-\n",
        "callback2 = ReduceLROnPlateau( monitor=\"val_accuracy\",\n",
        "                              factor=0.1,\n",
        "                              patience=1,\n",
        "                              verbose=1,\n",
        "                              mode=\"auto\"\n",
        "                              )\n",
        "#for Cond2:-\n",
        "def lf_schedule(epoch,lr):\n",
        "  if epoch%3 ==0:\n",
        "    lr=lr - 0.05*lr #-->i.e. 0.95*lr (5% decay)\n",
        "    print(f'New learning rate for epoch={epoch} is {lr}')\n",
        "    return lr\n",
        "  else:\n",
        "    return lr\n",
        "callback3 = LearningRateScheduler( schedule=lf_schedule,verbose=1 )\n",
        "\n",
        "#callback to save the model at every epoch if validation accuracy is improved from previous epoch\n",
        "#file path to save the best model for ModelCheckPoint:-\n",
        "\n",
        "f_path = \"/content/gdrive/MyDrive/FAI/best_modelVGG16.h5\"\n",
        "callback4 = ModelCheckpoint( filepath=f_path,\n",
        "                             monitor=\"val_accuracy\",\n",
        "                             verbose=1,\n",
        "                             save_best_only=True,\n",
        "                             mode=\"auto\"\n",
        "                           )"
      ],
      "metadata": {
        "id": "O63mFJil1fbT"
      },
      "execution_count": 34,
      "outputs": []
    },
    {
      "cell_type": "code",
      "source": [
        "historyVGG16 = model.fit_generator(generator=train_gen,\n",
        "                              steps_per_epoch=len(train_gen),\n",
        "                              validation_data=valid_gen,\n",
        "                              validation_steps=len(valid_gen),\n",
        "                              epochs=30,\n",
        "                              callbacks=[callback1,callback2,callback3,callback4])"
      ],
      "metadata": {
        "colab": {
          "base_uri": "https://localhost:8080/",
          "height": 997
        },
        "id": "RCbuaG1Z1feJ",
        "outputId": "a539f0e8-e4a4-49b5-dc95-b5b6ab3c2be8"
      },
      "execution_count": 35,
      "outputs": [
        {
          "output_type": "stream",
          "name": "stdout",
          "text": [
            "New learning rate for epoch=0 is 0.0009500000451225787\n",
            "\n",
            "Epoch 1: LearningRateScheduler setting learning rate to 0.0009500000451225787.\n",
            "Epoch 1/30\n"
          ]
        },
        {
          "output_type": "stream",
          "name": "stderr",
          "text": [
            "<ipython-input-35-eaac09a03f6a>:1: UserWarning: `Model.fit_generator` is deprecated and will be removed in a future version. Please use `Model.fit`, which supports generators.\n",
            "  historyVGG16 = model.fit_generator(generator=train_gen,\n"
          ]
        },
        {
          "output_type": "error",
          "ename": "ValueError",
          "evalue": "ignored",
          "traceback": [
            "\u001b[0;31m---------------------------------------------------------------------------\u001b[0m",
            "\u001b[0;31mValueError\u001b[0m                                Traceback (most recent call last)",
            "\u001b[0;32m<ipython-input-35-eaac09a03f6a>\u001b[0m in \u001b[0;36m<module>\u001b[0;34m\u001b[0m\n\u001b[0;32m----> 1\u001b[0;31m historyVGG16 = model.fit_generator(generator=train_gen,\n\u001b[0m\u001b[1;32m      2\u001b[0m                               \u001b[0msteps_per_epoch\u001b[0m\u001b[0;34m=\u001b[0m\u001b[0mlen\u001b[0m\u001b[0;34m(\u001b[0m\u001b[0mtrain_gen\u001b[0m\u001b[0;34m)\u001b[0m\u001b[0;34m,\u001b[0m\u001b[0;34m\u001b[0m\u001b[0;34m\u001b[0m\u001b[0m\n\u001b[1;32m      3\u001b[0m                               \u001b[0mvalidation_data\u001b[0m\u001b[0;34m=\u001b[0m\u001b[0mvalid_gen\u001b[0m\u001b[0;34m,\u001b[0m\u001b[0;34m\u001b[0m\u001b[0;34m\u001b[0m\u001b[0m\n\u001b[1;32m      4\u001b[0m                               \u001b[0mvalidation_steps\u001b[0m\u001b[0;34m=\u001b[0m\u001b[0mlen\u001b[0m\u001b[0;34m(\u001b[0m\u001b[0mvalid_gen\u001b[0m\u001b[0;34m)\u001b[0m\u001b[0;34m,\u001b[0m\u001b[0;34m\u001b[0m\u001b[0;34m\u001b[0m\u001b[0m\n\u001b[1;32m      5\u001b[0m                               \u001b[0mepochs\u001b[0m\u001b[0;34m=\u001b[0m\u001b[0;36m30\u001b[0m\u001b[0;34m,\u001b[0m\u001b[0;34m\u001b[0m\u001b[0;34m\u001b[0m\u001b[0m\n",
            "\u001b[0;32m/usr/local/lib/python3.8/dist-packages/keras/engine/training.py\u001b[0m in \u001b[0;36mfit_generator\u001b[0;34m(self, generator, steps_per_epoch, epochs, verbose, callbacks, validation_data, validation_steps, validation_freq, class_weight, max_queue_size, workers, use_multiprocessing, shuffle, initial_epoch)\u001b[0m\n\u001b[1;32m   2258\u001b[0m         \u001b[0;34m'Please use `Model.fit`, which supports generators.'\u001b[0m\u001b[0;34m,\u001b[0m\u001b[0;34m\u001b[0m\u001b[0;34m\u001b[0m\u001b[0m\n\u001b[1;32m   2259\u001b[0m         stacklevel=2)\n\u001b[0;32m-> 2260\u001b[0;31m     return self.fit(\n\u001b[0m\u001b[1;32m   2261\u001b[0m         \u001b[0mgenerator\u001b[0m\u001b[0;34m,\u001b[0m\u001b[0;34m\u001b[0m\u001b[0;34m\u001b[0m\u001b[0m\n\u001b[1;32m   2262\u001b[0m         \u001b[0msteps_per_epoch\u001b[0m\u001b[0;34m=\u001b[0m\u001b[0msteps_per_epoch\u001b[0m\u001b[0;34m,\u001b[0m\u001b[0;34m\u001b[0m\u001b[0;34m\u001b[0m\u001b[0m\n",
            "\u001b[0;32m/usr/local/lib/python3.8/dist-packages/keras/utils/traceback_utils.py\u001b[0m in \u001b[0;36merror_handler\u001b[0;34m(*args, **kwargs)\u001b[0m\n\u001b[1;32m     65\u001b[0m     \u001b[0;32mexcept\u001b[0m \u001b[0mException\u001b[0m \u001b[0;32mas\u001b[0m \u001b[0me\u001b[0m\u001b[0;34m:\u001b[0m  \u001b[0;31m# pylint: disable=broad-except\u001b[0m\u001b[0;34m\u001b[0m\u001b[0;34m\u001b[0m\u001b[0m\n\u001b[1;32m     66\u001b[0m       \u001b[0mfiltered_tb\u001b[0m \u001b[0;34m=\u001b[0m \u001b[0m_process_traceback_frames\u001b[0m\u001b[0;34m(\u001b[0m\u001b[0me\u001b[0m\u001b[0;34m.\u001b[0m\u001b[0m__traceback__\u001b[0m\u001b[0;34m)\u001b[0m\u001b[0;34m\u001b[0m\u001b[0;34m\u001b[0m\u001b[0m\n\u001b[0;32m---> 67\u001b[0;31m       \u001b[0;32mraise\u001b[0m \u001b[0me\u001b[0m\u001b[0;34m.\u001b[0m\u001b[0mwith_traceback\u001b[0m\u001b[0;34m(\u001b[0m\u001b[0mfiltered_tb\u001b[0m\u001b[0;34m)\u001b[0m \u001b[0;32mfrom\u001b[0m \u001b[0;32mNone\u001b[0m\u001b[0;34m\u001b[0m\u001b[0;34m\u001b[0m\u001b[0m\n\u001b[0m\u001b[1;32m     68\u001b[0m     \u001b[0;32mfinally\u001b[0m\u001b[0;34m:\u001b[0m\u001b[0;34m\u001b[0m\u001b[0;34m\u001b[0m\u001b[0m\n\u001b[1;32m     69\u001b[0m       \u001b[0;32mdel\u001b[0m \u001b[0mfiltered_tb\u001b[0m\u001b[0;34m\u001b[0m\u001b[0;34m\u001b[0m\u001b[0m\n",
            "\u001b[0;32m/usr/local/lib/python3.8/dist-packages/keras/engine/training.py\u001b[0m in \u001b[0;36mtf__train_function\u001b[0;34m(iterator)\u001b[0m\n\u001b[1;32m     13\u001b[0m                 \u001b[0;32mtry\u001b[0m\u001b[0;34m:\u001b[0m\u001b[0;34m\u001b[0m\u001b[0;34m\u001b[0m\u001b[0m\n\u001b[1;32m     14\u001b[0m                     \u001b[0mdo_return\u001b[0m \u001b[0;34m=\u001b[0m \u001b[0;32mTrue\u001b[0m\u001b[0;34m\u001b[0m\u001b[0;34m\u001b[0m\u001b[0m\n\u001b[0;32m---> 15\u001b[0;31m                     \u001b[0mretval_\u001b[0m \u001b[0;34m=\u001b[0m \u001b[0mag__\u001b[0m\u001b[0;34m.\u001b[0m\u001b[0mconverted_call\u001b[0m\u001b[0;34m(\u001b[0m\u001b[0mag__\u001b[0m\u001b[0;34m.\u001b[0m\u001b[0mld\u001b[0m\u001b[0;34m(\u001b[0m\u001b[0mstep_function\u001b[0m\u001b[0;34m)\u001b[0m\u001b[0;34m,\u001b[0m \u001b[0;34m(\u001b[0m\u001b[0mag__\u001b[0m\u001b[0;34m.\u001b[0m\u001b[0mld\u001b[0m\u001b[0;34m(\u001b[0m\u001b[0mself\u001b[0m\u001b[0;34m)\u001b[0m\u001b[0;34m,\u001b[0m \u001b[0mag__\u001b[0m\u001b[0;34m.\u001b[0m\u001b[0mld\u001b[0m\u001b[0;34m(\u001b[0m\u001b[0miterator\u001b[0m\u001b[0;34m)\u001b[0m\u001b[0;34m)\u001b[0m\u001b[0;34m,\u001b[0m \u001b[0;32mNone\u001b[0m\u001b[0;34m,\u001b[0m \u001b[0mfscope\u001b[0m\u001b[0;34m)\u001b[0m\u001b[0;34m\u001b[0m\u001b[0;34m\u001b[0m\u001b[0m\n\u001b[0m\u001b[1;32m     16\u001b[0m                 \u001b[0;32mexcept\u001b[0m\u001b[0;34m:\u001b[0m\u001b[0;34m\u001b[0m\u001b[0;34m\u001b[0m\u001b[0m\n\u001b[1;32m     17\u001b[0m                     \u001b[0mdo_return\u001b[0m \u001b[0;34m=\u001b[0m \u001b[0;32mFalse\u001b[0m\u001b[0;34m\u001b[0m\u001b[0;34m\u001b[0m\u001b[0m\n",
            "\u001b[0;31mValueError\u001b[0m: in user code:\n\n    File \"/usr/local/lib/python3.8/dist-packages/keras/engine/training.py\", line 1051, in train_function  *\n        return step_function(self, iterator)\n    File \"/usr/local/lib/python3.8/dist-packages/keras/engine/training.py\", line 1040, in step_function  **\n        outputs = model.distribute_strategy.run(run_step, args=(data,))\n    File \"/usr/local/lib/python3.8/dist-packages/keras/engine/training.py\", line 1030, in run_step  **\n        outputs = model.train_step(data)\n    File \"/usr/local/lib/python3.8/dist-packages/keras/engine/training.py\", line 890, in train_step\n        loss = self.compute_loss(x, y, y_pred, sample_weight)\n    File \"/usr/local/lib/python3.8/dist-packages/keras/engine/training.py\", line 948, in compute_loss\n        return self.compiled_loss(\n    File \"/usr/local/lib/python3.8/dist-packages/keras/engine/compile_utils.py\", line 201, in __call__\n        loss_value = loss_obj(y_t, y_p, sample_weight=sw)\n    File \"/usr/local/lib/python3.8/dist-packages/keras/losses.py\", line 139, in __call__\n        losses = call_fn(y_true, y_pred)\n    File \"/usr/local/lib/python3.8/dist-packages/keras/losses.py\", line 243, in call  **\n        return ag_fn(y_true, y_pred, **self._fn_kwargs)\n    File \"/usr/local/lib/python3.8/dist-packages/keras/losses.py\", line 1787, in categorical_crossentropy\n        return backend.categorical_crossentropy(\n    File \"/usr/local/lib/python3.8/dist-packages/keras/backend.py\", line 5119, in categorical_crossentropy\n        target.shape.assert_is_compatible_with(output.shape)\n\n    ValueError: Shapes (None, None) and (None, 7, 7, 2) are incompatible\n"
          ]
        }
      ]
    },
    {
      "cell_type": "code",
      "source": [
        "epochs = 5\n",
        "patience= 1 # number of epochs to wait to adjust lr if monitored value does not improve\n",
        "stop_patience =3 # number of epochs to wait before stopping training if monitored value does not improve\n",
        "threshold=.9 # if train accuracy is < threshhold adjust monitor accuracy, else monitor validation loss\n",
        "factor=.5 # factor to reduce lr by\n",
        "dwell=True # experimental, if True and monitored metric does not improve on current epoch set  modelweights back to weights of previous epoch\n",
        "freeze=False # if true free weights of  the base model\n",
        "ask_epoch=15 # number of epochs to run before asking if you want to halt training\n",
        "batches=num_train//batch_size\n",
        "callbacks=[LRA(model=model,base_model= base_model,patience=patience,stop_patience=stop_patience, threshold=threshold,\n",
        "                   factor=factor,dwell=dwell, batches=batches,initial_epoch=0,epochs=epochs, ask_epoch=ask_epoch )]\n",
        "\n",
        "historyVGG16 = model.fit(x=train_gen,  epochs=epochs, verbose=0, callbacks=callbacks,  validation_data=valid_gen,\n",
        "               validation_steps=None,  shuffle=False,  initial_epoch=0)"
      ],
      "metadata": {
        "id": "i40NgFTx04pr"
      },
      "execution_count": null,
      "outputs": []
    },
    {
      "cell_type": "markdown",
      "source": [
        "References:\n",
        "\n",
        " - https://towardsdatascience.com/transfer-learning-with-vgg16-and-keras-50ea161580b4\n",
        "\n",
        " - https://ai.plainenglish.io/beginners-guide-to-transfer-learning-with-simple-example-using-vgg16-61040c095ab9\n",
        "\n",
        " - https://medium.com/nerd-for-tech/image-classification-using-transfer-learning-vgg-16-2dc2221be34c\n",
        "\n",
        " - https://medium.com/mlearning-ai/brain-tumor-detection-transfer-learning-using-vgg16-a0d0a31f2e9\n",
        "\n",
        " - https://www.kaggle.com/code/gpiosenka/efficientnetb4-acc-score-99-67#Create-EfficientNetB4-Model\n",
        "\n",
        " - https://keras.io/examples/vision/image_classification_efficientnet_fine_tuning/\n",
        "\n",
        " - https://towardsdatascience.com/10-minutes-to-building-a-fully-connected-binary-image-classifier-in-tensorflow-d88062e1247f\n",
        "\n",
        " - https://github.com/streamlit\n",
        "\n",
        " - https://paperswithcode.com/method/efficientnet#:~:text=EfficientNet%20is%20a%20convolutional%20neural,resolution%20using%20a%20compound%20coefficient.\n",
        "\n",
        "\n"
      ],
      "metadata": {
        "id": "RyL8dup7jCcP"
      }
    }
  ]
}