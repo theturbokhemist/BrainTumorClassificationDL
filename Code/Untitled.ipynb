{
 "cells": [
  {
   "cell_type": "code",
   "execution_count": 4,
   "id": "a21ee663",
   "metadata": {},
   "outputs": [],
   "source": [
    "import os\n",
    "import shutil\n",
    "\n",
    "from PIL import Image\n",
    "import numpy as np\n",
    "import pandas as pd\n"
   ]
  },
  {
   "cell_type": "code",
   "execution_count": 15,
   "id": "56f38a84",
   "metadata": {},
   "outputs": [],
   "source": [
    "### Copy and rename no tumor images from DS1 ###\n",
    "start = os.getcwd() + \"/Data/DS1_BR35H/no\"\n",
    "destination = os.getcwd() + \"/Data/T0\"\n",
    "\n",
    "for file in os.listdir(start):\n",
    "    \n",
    "    source = os.path.join(start, file)\n",
    "    newName = \"DS1_\" + \"T0_\" + file    \n",
    "    target = os.path.join(destination, newName)\n",
    "\n",
    "    shutil.copy(source, target)\n",
    "\n",
    "    \n",
    "### Copy and rename tumor images from DS1 ###\n",
    "start = os.getcwd() + \"/Data/DS1_BR35H/yes\"\n",
    "destination = os.getcwd() + \"/Data/T1\"\n",
    "\n",
    "for file in os.listdir(start):\n",
    "    \n",
    "    source = os.path.join(start, file)\n",
    "    newName = \"DS1_\" + \"T1_\" + file    \n",
    "    target = os.path.join(destination, newName)\n",
    "\n",
    "    shutil.copy(source, target)"
   ]
  },
  {
   "cell_type": "code",
   "execution_count": 23,
   "id": "6c7c87f0",
   "metadata": {
    "scrolled": true
   },
   "outputs": [
    {
     "name": "stdout",
     "output_type": "stream",
     "text": [
      "/Users/gordid/Desktop/MSAI/FAI/FinalProject/Data/DS2/Testing/no_tumor\n",
      "/Users/gordid/Desktop/MSAI/FAI/FinalProject/Data/DS2/Testing/glioma_tumor\n",
      "/Users/gordid/Desktop/MSAI/FAI/FinalProject/Data/DS2/Testing/meningioma_tumor\n",
      "/Users/gordid/Desktop/MSAI/FAI/FinalProject/Data/DS2/Testing/pituitary_tumor\n",
      "/Users/gordid/Desktop/MSAI/FAI/FinalProject/Data/DS2/Training/no_tumor\n",
      "/Users/gordid/Desktop/MSAI/FAI/FinalProject/Data/DS2/Training/glioma_tumor\n",
      "/Users/gordid/Desktop/MSAI/FAI/FinalProject/Data/DS2/Training/meningioma_tumor\n",
      "/Users/gordid/Desktop/MSAI/FAI/FinalProject/Data/DS2/Training/pituitary_tumor\n"
     ]
    }
   ],
   "source": [
    "### Copy and Rename images from DS2 ###\n",
    "startList = [os.getcwd() + \"/Data/DS2/Testing\", os.getcwd() + \"/Data/DS2/Training\"]\n",
    "destinationList = [os.getcwd() + \"/Data/T0\", os.getcwd() + \"/Data/T1\"]\n",
    "\n",
    "classList = [\"no_tumor\", \"glioma_tumor\", \"meningioma_tumor\", \"pituitary_tumor\"]\n",
    "\n",
    "for start in startList:\n",
    "    \n",
    "    for count, className in enumerate(classList):\n",
    "        \n",
    "        folder = os.path.join(start, className)\n",
    "        print(folder)\n",
    "        for file in os.listdir(folder):\n",
    "            \n",
    "            if count == 0:\n",
    "    \n",
    "                source = os.path.join(folder, file)\n",
    "                newName = \"DS2_\" + \"T0_\" + \"C0_\" + file    \n",
    "                target = os.path.join(destinationList[0], newName)\n",
    "                shutil.copy(source, target)\n",
    "\n",
    "            else:\n",
    "                source = os.path.join(folder, file)\n",
    "                newName = \"DS2_\" + \"T1_\" + \"C\" + str(count) + \"_\" + file    \n",
    "                target = os.path.join(destinationList[1], newName)\n",
    "                shutil.copy(source, target)"
   ]
  },
  {
   "cell_type": "code",
   "execution_count": 32,
   "id": "bc947e4a",
   "metadata": {},
   "outputs": [],
   "source": [
    "#Read Info from CSV\n",
    "mat = pd.read_csv(os.getcwd() + \"/Data/DS3_features/Brain Tumor.csv\")\n",
    "imgNames = mat[\"Image\"]\n",
    "labels = mat[\"Class\"]\n",
    "\n",
    "### Copy and Rename images from DS3 ###\n",
    "start = os.getcwd() + \"/Data/DS3_features/Brain Tumor/Brain Tumor\"\n",
    "destinationList = [os.getcwd() + \"/Data/T0\", os.getcwd() + \"/Data/T1\"]\n",
    "\n",
    "for count, name in enumerate(imgNames):\n",
    "    \n",
    "    label = labels[count]\n",
    "    name = name + \".jpg\"\n",
    "    \n",
    "    if label == 0:\n",
    "\n",
    "        source = os.path.join(start, name)\n",
    "        newName = \"DS3_\" + \"T0_\" + name   \n",
    "        target = os.path.join(destinationList[0], newName)\n",
    "        shutil.copy(source, target)\n",
    "\n",
    "    else:\n",
    "        source = os.path.join(start, name)\n",
    "        newName = \"DS3_\" + \"T1_\" + name    \n",
    "        target = os.path.join(destinationList[1], newName)\n",
    "        shutil.copy(source, target)\n"
   ]
  },
  {
   "cell_type": "code",
   "execution_count": null,
   "id": "c93eb21c",
   "metadata": {},
   "outputs": [],
   "source": [
    "### Copy and rename no tumor images from DS1 ###\n",
    "start = os.getcwd() + \"/Data/DS4/no\"\n",
    "destination = os.getcwd() + \"/Data/T0\"\n",
    "\n",
    "for file in os.listdir(start):\n",
    "    \n",
    "    source = os.path.join(start, file)\n",
    "    newName = \"DS4_\" + \"T0_\" + file    \n",
    "    target = os.path.join(destination, newName)\n",
    "\n",
    "    shutil.copy(source, target)\n",
    "\n",
    "    \n",
    "### Copy and rename tumor images from DS1 ###\n",
    "start = os.getcwd() + \"/Data/DS1_BR35H/yes\"\n",
    "destination = os.getcwd() + \"/Data/T1\"\n",
    "\n",
    "for file in os.listdir(start):\n",
    "    \n",
    "    source = os.path.join(start, file)\n",
    "    newName = \"DS1_\" + \"T1_\" + file    \n",
    "    target = os.path.join(destination, newName)\n",
    "\n",
    "    shutil.copy(source, target)"
   ]
  },
  {
   "cell_type": "code",
   "execution_count": 22,
   "id": "486fb8cd",
   "metadata": {},
   "outputs": [
    {
     "data": {
      "text/plain": [
       "'5'"
      ]
     },
     "execution_count": 22,
     "metadata": {},
     "output_type": "execute_result"
    }
   ],
   "source": [
    "str(5)"
   ]
  },
  {
   "cell_type": "code",
   "execution_count": null,
   "id": "e1882243",
   "metadata": {},
   "outputs": [],
   "source": []
  }
 ],
 "metadata": {
  "kernelspec": {
   "display_name": "Python 3 (ipykernel)",
   "language": "python",
   "name": "python3"
  },
  "language_info": {
   "codemirror_mode": {
    "name": "ipython",
    "version": 3
   },
   "file_extension": ".py",
   "mimetype": "text/x-python",
   "name": "python",
   "nbconvert_exporter": "python",
   "pygments_lexer": "ipython3",
   "version": "3.9.7"
  }
 },
 "nbformat": 4,
 "nbformat_minor": 5
}
