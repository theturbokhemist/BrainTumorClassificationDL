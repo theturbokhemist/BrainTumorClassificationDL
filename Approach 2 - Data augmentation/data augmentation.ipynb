{
 "cells": [
  {
   "cell_type": "code",
   "execution_count": null,
   "metadata": {
    "colab": {
     "base_uri": "https://localhost:8080/"
    },
    "executionInfo": {
     "elapsed": 2104,
     "status": "ok",
     "timestamp": 1670792145179,
     "user": {
      "displayName": "Cui Jiaheng",
      "userId": "09094726583302031297"
     },
     "user_tz": 300
    },
    "id": "khg1PdsrjGip",
    "outputId": "0ce1780a-5f0d-4c5c-bbb0-6e7043a79582"
   },
   "outputs": [
    {
     "name": "stdout",
     "output_type": "stream",
     "text": [
      "Mounted at /content/drive\n"
     ]
    }
   ],
   "source": [
    "from google.colab import drive\n",
    "drive.mount('/content/drive', force_remount=True)"
   ]
  },
  {
   "cell_type": "code",
   "execution_count": null,
   "metadata": {
    "id": "7G7CmL-ZjV9F"
   },
   "outputs": [],
   "source": [
    "# pip install Augmentor"
   ]
  },
  {
   "cell_type": "code",
   "execution_count": null,
   "metadata": {
    "id": "OTsf_WITjXW_"
   },
   "outputs": [],
   "source": [
    "import os\n",
    "\n",
    "# folder path\n",
    "dir_path = r'/content/drive/MyDrive/Base CNN/TrainTestVal'\n",
    "\n",
    "# print(len(os.listdir(dir_path + '/Train/Tumor')))\n",
    "# print(len(os.listdir(dir_path + '/Train/Normal')))\n",
    "# print(len(os.listdir(dir_path + '/Val/Tumor')))\n",
    "# print(len(os.listdir(dir_path + '/Val/Normal')))\n",
    "# print(len(os.listdir(dir_path + '/Test/Tumor')))\n",
    "# print(len(os.listdir(dir_path + '/Test/Normal')))"
   ]
  },
  {
   "cell_type": "code",
   "execution_count": null,
   "metadata": {
    "id": "gIoOOpjDxDuZ"
   },
   "outputs": [],
   "source": [
    "!mkdir train_local\n",
    "!unzip '/content/drive/MyDrive/Base CNN/TrainTestVal-001.zip' -d train_local"
   ]
  },
  {
   "cell_type": "code",
   "execution_count": null,
   "metadata": {
    "id": "WrJir88SAUx0"
   },
   "outputs": [],
   "source": [
    "dir_path = r'/content/train_local/TrainTestVal'"
   ]
  },
  {
   "cell_type": "markdown",
   "metadata": {
    "id": "R_asqP9DTvg8"
   },
   "source": [
    "## Data Augmentation Part"
   ]
  },
  {
   "cell_type": "code",
   "execution_count": null,
   "metadata": {
    "id": "qeDUw99zjYU9"
   },
   "outputs": [],
   "source": [
    "# import Augmentor\n",
    "\n",
    "# cur_path = '/content/drive/MyDrive/Base CNN/TrainTestVal/Train/Tumor'\n",
    "# let the augmentor read the path\n",
    "# p = Augmentor.Pipeline(cur_path)"
   ]
  },
  {
   "cell_type": "code",
   "execution_count": null,
   "metadata": {
    "id": "utAUAZfvmUUY"
   },
   "outputs": [],
   "source": [
    "# Point to a directory containing ground truth data.\n",
    "# Images with the same file names will be added as ground truth data\n",
    "# and augmented in parallel to the original data.\n",
    "# p.ground_truth(cur_path)"
   ]
  },
  {
   "cell_type": "code",
   "execution_count": null,
   "metadata": {
    "id": "Es88W_Vqnbh1"
   },
   "outputs": [],
   "source": [
    "# Add operations to the pipeline as normal. Tutorial:\n",
    "# https://augmentor.readthedocs.io/en/stable/userguide/mainfeatures.html#\n",
    "\n",
    "# p.rotate(probability=1, max_left_rotation=10, max_right_rotation=10)\n",
    "# p.flip_left_right(probability=0.5)\n",
    "# p.flip_top_bottom(probability=0.5)\n",
    "# p.zoom_random(probability=0.5, percentage_area=0.8)"
   ]
  },
  {
   "cell_type": "code",
   "execution_count": null,
   "metadata": {
    "id": "KEAQdF94ndKF"
   },
   "outputs": [],
   "source": [
    "# generate augmented examples\n",
    "# try:\n",
    "#   p.sample(1000)\n",
    "# except:\n",
    "#   pass"
   ]
  },
  {
   "cell_type": "markdown",
   "metadata": {
    "id": "gCLLETZYTy1-"
   },
   "source": [
    "## Training Part"
   ]
  },
  {
   "cell_type": "code",
   "execution_count": null,
   "metadata": {
    "id": "A7V9jRbUogyI"
   },
   "outputs": [],
   "source": [
    "# Basic manipulation libraries\n",
    "import numpy as np\n",
    "import pandas as pd\n",
    "import matplotlib.pyplot as plt\n",
    "\n",
    "# Importing PyTorch functionalities\n",
    "import torch\n",
    "import torch.nn as nn\n",
    "import torch.nn.functional as activation\n",
    "import torch.optim as optim\n",
    "from torch.utils.data import Dataset\n",
    "from torchvision import transforms\n",
    "\n",
    "# To get the metrics for evaluation\n",
    "from sklearn.metrics import f1_score,precision_recall_curve,ConfusionMatrixDisplay,confusion_matrix\n",
    "\n",
    "# More utilities\n",
    "from PIL import Image\n",
    "from glob import glob\n",
    "\n",
    "import gc\n",
    "torch.cuda.empty_cache()\n",
    "gc.collect()\n",
    "\n",
    "# Dataset Locations\n",
    "\n",
    "# Training Set: dataset + all\n",
    "trainLocation = dir_path + \"/Train\"\n",
    "# print(trainLocation)\n",
    "\n",
    "# Validation Set : 20% (300 Images)\n",
    "validationLocation = dir_path + \"/Val\"\n",
    "\n",
    "# Testing Set : 20% (300 Images)\n",
    "testLocation = dir_path + \"/Test\"\n",
    "\n",
    "pd.set_option(\"max_row\",100)\n"
   ]
  },
  {
   "cell_type": "code",
   "execution_count": null,
   "metadata": {
    "colab": {
     "base_uri": "https://localhost:8080/",
     "height": 54
    },
    "executionInfo": {
     "elapsed": 4,
     "status": "ok",
     "timestamp": 1670809484128,
     "user": {
      "displayName": "Cui Jiaheng",
      "userId": "09094726583302031297"
     },
     "user_tz": 300
    },
    "id": "8gDoKTYsyiKY",
    "outputId": "22b04f3b-c236-485b-d4f7-dd9c378adc35"
   },
   "outputs": [
    {
     "data": {
      "application/vnd.google.colaboratory.intrinsic+json": {
       "type": "string"
      },
      "text/plain": [
       "'\\nSave Model :\\ntorch.save(baseLine.state_dict(),PATH)\\nmodel=baseLineCNN.load(torch.load(PATH))\\nmodel.eval()\\n'"
      ]
     },
     "execution_count": 152,
     "metadata": {},
     "output_type": "execute_result"
    }
   ],
   "source": [
    "\"\"\"\n",
    "Save Model :\n",
    "torch.save(baseLine.state_dict(),PATH)\n",
    "model=baseLineCNN.load(torch.load(PATH))\n",
    "model.eval()\n",
    "\"\"\""
   ]
  },
  {
   "cell_type": "code",
   "execution_count": null,
   "metadata": {
    "id": "zCiozUGcyiKZ"
   },
   "outputs": [],
   "source": [
    "# Cuda Initializer\n",
    "if torch.cuda.is_available():\n",
    "    device=torch.device(\"cuda:0\")\n",
    "else:\n",
    "    device=torch.device(\"cpu\")"
   ]
  },
  {
   "cell_type": "code",
   "execution_count": null,
   "metadata": {
    "id": "FN6Bv63YyiKZ"
   },
   "outputs": [],
   "source": [
    "# Establishing the Dataset class\n",
    "\n",
    "class TumorDataset(Dataset):\n",
    "    def __init__(self, num_dataset = 1, datasetLocation = '', augmented_technique = '', reshape = True, width = 128, height = 128):\n",
    "      self.num_dataset = num_dataset\n",
    "      # Read the classes\n",
    "      if num_dataset == 1: # for val and test\n",
    "        self.datasetLocation = datasetLocation\n",
    "        self.negative_result = glob(datasetLocation + \"/Normal/*\")\n",
    "        self.positive_result = glob(datasetLocation + \"/Tumor/*\")\n",
    "      elif num_dataset == 2 and augmented_technique == '': # for train\n",
    "        self.negative_result = glob(datasetLocation + \"/Normal/original/*\")\n",
    "        self.positive_result = glob(datasetLocation+\"/Tumor/original/*\")\n",
    "      elif num_dataset == 2 and augmented_technique != '': # for train\n",
    "        # self.original_datasetLocation = dataset_1_Location\n",
    "        # self.augmented_datasetLocation = dataset_2_Location\n",
    "        self.negative_orignal = glob(datasetLocation + \"/Normal/original/*\")\n",
    "        self.positive_orignal = glob(datasetLocation+\"/Tumor/original/*\")\n",
    "        if augmented_technique == 'rotation':\n",
    "          self.negative_augmented = glob(datasetLocation + \"/Normal/rotation/*\")\n",
    "          self.positive_augmented = glob(datasetLocation + \"/Tumor/rotation/*\")\n",
    "        elif augmented_technique == 'flip':\n",
    "          self.negative_augmented = glob(datasetLocation + \"/Normal/flip/*\")\n",
    "          self.positive_augmented = glob(datasetLocation + \"/Tumor/flip/*\")\n",
    "        if augmented_technique == 'zoom':\n",
    "          self.negative_augmented = glob(datasetLocation + \"/Normal/zoom/*\")\n",
    "          self.positive_augmented = glob(datasetLocation + \"/Tumor/zoom/*\")\n",
    "        if augmented_technique == 'all':\n",
    "          self.negative_augmented = glob(datasetLocation + \"/Normal/all/*\")\n",
    "          self.positive_augmented = glob(datasetLocation + \"/Tumor/all/*\")\n",
    "        self.negative_result = self.negative_orignal + self.negative_augmented\n",
    "        print('number of negative results: ', len(self.negative_result))\n",
    "        self.positive_result = self.positive_orignal + self.positive_augmented\n",
    "        print('number of positive results: ', len(self.positive_result))\n",
    "\n",
    "      # Establishing the resizing factor\n",
    "      self.reshape = reshape\n",
    "      self.width = width\n",
    "      self.height = height\n",
    "\n",
    "      labels = [1 for i in range(len(self.positive_result))]\n",
    "      labels += [0 for i in range(len(self.negative_result))]\n",
    "\n",
    "      images = self.positive_result + self.negative_result\n",
    "\n",
    "      self.imageData = pd.DataFrame({\"Image\":images,\"Label\":labels})\n",
    "      self.imageData.reset_index(inplace=True,drop=True)\n",
    "\n",
    "    def __len__(self):\n",
    "        return len(self.negative_result)+len(self.positive_result)\n",
    "\n",
    "    def __getitem__(self,idx):\n",
    "        currImage = self.imageData[\"Image\"][idx]\n",
    "        currImage = Image.open(currImage).convert(\"L\")\n",
    "        if self.reshape:\n",
    "            currImage = currImage.resize((self.height,self.width))\n",
    "\n",
    "        convert_tensor = transforms.ToTensor()\n",
    "        currImage = convert_tensor(currImage)\n",
    "\n",
    "        currLabel = torch.tensor(self.imageData[\"Label\"][idx])\n",
    "        \n",
    "        return (currImage, currLabel)\n",
    "\n",
    "    def __repr__(self):\n",
    "        return str(self.imageData.head(5))\n"
   ]
  },
  {
   "cell_type": "code",
   "execution_count": null,
   "metadata": {
    "colab": {
     "base_uri": "https://localhost:8080/"
    },
    "executionInfo": {
     "elapsed": 2,
     "status": "ok",
     "timestamp": 1670809487075,
     "user": {
      "displayName": "Cui Jiaheng",
      "userId": "09094726583302031297"
     },
     "user_tz": 300
    },
    "id": "y1JmPfWbyiKa",
    "outputId": "2169133a-56a1-46a2-ef89-8e0fe74918ca"
   },
   "outputs": [
    {
     "name": "stdout",
     "output_type": "stream",
     "text": [
      "number of negative results:  4258\n",
      "number of positive results:  5881\n",
      "number of negative results:  4258\n",
      "number of positive results:  5881\n",
      "number of negative results:  4258\n",
      "number of positive results:  5881\n",
      "number of negative results:  4258\n",
      "number of positive results:  5881\n"
     ]
    }
   ],
   "source": [
    "# Define the training set\n",
    "trainDataset_rotation = TumorDataset(num_dataset = 2, datasetLocation = trainLocation, augmented_technique = 'rotation')\n",
    "trainDataset_flip = TumorDataset(num_dataset = 2, datasetLocation = trainLocation, augmented_technique = 'flip')\n",
    "trainDataset_zoom = TumorDataset(num_dataset = 2, datasetLocation = trainLocation, augmented_technique = 'zoom')\n",
    "trainDataset_all = TumorDataset(num_dataset = 2, datasetLocation = trainLocation, augmented_technique = 'all')"
   ]
  },
  {
   "cell_type": "code",
   "execution_count": null,
   "metadata": {
    "id": "1N768fpMyiKb"
   },
   "outputs": [],
   "source": [
    "# Base Line CNN Model\n",
    "class BaseLineCNN(nn.Module):\n",
    "  def __init__(self):\n",
    "    super().__init__()\n",
    "\n",
    "    # Another Convolution Layer on Top\n",
    "    self.convolutionLayer1=nn.Sequential(\n",
    "        nn.Conv2d(1,128,kernel_size=3), \n",
    "        nn.MaxPool2d(2,2),\n",
    "        nn.Conv2d(128,32,kernel_size=2)\n",
    "    )\n",
    "\n",
    "    # Fully Connected Layers\n",
    "    self.fcn1=nn.Linear(62,128)\n",
    "    self.fn2=nn.Linear(128,64)\n",
    "\n",
    "    # Flatten and final Layer\n",
    "    self.flatten=nn.Flatten(1)\n",
    "    self.fcn3=nn.Linear(126976,2)\n",
    "  \n",
    "  def forward(self,x):\n",
    "    # Perform Forward Propogation and calculate the value\n",
    "    x=activation.relu(self.convolutionLayer1(x))\n",
    "    # print('after conv',x.shape)\n",
    "    x=activation.relu(self.fcn1(x))\n",
    "    # print('after fcn1', x.shape)\n",
    "    x=activation.relu(self.fn2(x))\n",
    "    # print('after fcn2', x.shape)\n",
    "    if x.dim() == 4: # for training\n",
    "      # print('yes!')\n",
    "      x=self.flatten(x)\n",
    "    elif x.dim() == 3: # for\n",
    "      x=x.reshape(-1)\n",
    "    # print('after flatten', x.shape)\n",
    "    # Softmax activation is applied by default for categorical cross entropy loss function \n",
    "    x=self.fcn3(x) \n",
    "    # print('after fcn3', x.shape)\n",
    "    return x\n"
   ]
  },
  {
   "cell_type": "code",
   "execution_count": null,
   "metadata": {
    "colab": {
     "base_uri": "https://localhost:8080/"
    },
    "executionInfo": {
     "elapsed": 2,
     "status": "ok",
     "timestamp": 1670809488881,
     "user": {
      "displayName": "Cui Jiaheng",
      "userId": "09094726583302031297"
     },
     "user_tz": 300
    },
    "id": "j0ihsSpHyiKb",
    "outputId": "3ce838fd-c0a4-4da0-c537-c2f4f9b1618e"
   },
   "outputs": [
    {
     "data": {
      "text/plain": [
       "BaseLineCNN(\n",
       "  (convolutionLayer1): Sequential(\n",
       "    (0): Conv2d(1, 128, kernel_size=(3, 3), stride=(1, 1))\n",
       "    (1): MaxPool2d(kernel_size=2, stride=2, padding=0, dilation=1, ceil_mode=False)\n",
       "    (2): Conv2d(128, 32, kernel_size=(2, 2), stride=(1, 1))\n",
       "  )\n",
       "  (fcn1): Linear(in_features=62, out_features=128, bias=True)\n",
       "  (fn2): Linear(in_features=128, out_features=64, bias=True)\n",
       "  (flatten): Flatten(start_dim=1, end_dim=-1)\n",
       "  (fcn3): Linear(in_features=126976, out_features=2, bias=True)\n",
       ")"
      ]
     },
     "execution_count": 157,
     "metadata": {},
     "output_type": "execute_result"
    }
   ],
   "source": [
    "# Establish the Model\n",
    "baseLineCNN = BaseLineCNN()\n",
    "baseLineCNN.to(device=device)"
   ]
  },
  {
   "cell_type": "code",
   "execution_count": null,
   "metadata": {
    "id": "Df8ogxoTyiKc"
   },
   "outputs": [],
   "source": [
    "from torch.utils.data import DataLoader\n",
    "\n",
    "trainDataset = trainDataset_all\n",
    "validationDataset = TumorDataset(num_dataset = 1, datasetLocation = validationLocation)\n",
    "\n",
    "train_loader = DataLoader(dataset=trainDataset, shuffle=True, batch_size=128, num_workers=1, pin_memory=True)\n",
    "validation_loader = DataLoader(dataset=validationDataset, shuffle=True, batch_size=128, num_workers=1, pin_memory=True)\n",
    "\n",
    "# Loss Function\n",
    "lossFunction = nn.CrossEntropyLoss()\n",
    "# lossFunction = nn.BCELoss()\n",
    "\n",
    "# Optimizer \n",
    "optimizer = optim.Adam(baseLineCNN.parameters(), lr=0.001)"
   ]
  },
  {
   "cell_type": "code",
   "execution_count": null,
   "metadata": {
    "id": "5FROwCGJHBtd"
   },
   "outputs": [],
   "source": [
    "def check_accuracy(loader, model):\n",
    "    if loader == train_loader:\n",
    "        print(\"Checking accuracy on training data\")\n",
    "    else:\n",
    "        print(\"Checking accuracy on validation data\")\n",
    "\n",
    "    num_correct = 0\n",
    "    num_samples = 0\n",
    "    model.eval()\n",
    "\n",
    "    with torch.no_grad():\n",
    "        for x, y in loader:\n",
    "            x = x.to(device=device)\n",
    "            y = y.to(device=device)\n",
    "\n",
    "            scores = model(x)\n",
    "            # print(scores)\n",
    "            predictions = np.zeros((scores.shape[0],))\n",
    "            for i in range(scores.shape[0]):\n",
    "              predictions[i] = 1.0 if scores[i][1] >= scores[i][0] else 0.0\n",
    "            predictions = torch.tensor(predictions).to(device)\n",
    "            num_correct += (predictions == y).sum()\n",
    "            num_samples += predictions.size(0)\n",
    "    return f\"{float(num_correct)/float(num_samples)*100:.2f}\"\n",
    "    print(\n",
    "        f\"Got {num_correct} / {num_samples} with accuracy {float(num_correct)/float(num_samples)*100:.2f}\"\n",
    "    )\n",
    "    baseLineCNN.train()"
   ]
  },
  {
   "cell_type": "code",
   "execution_count": null,
   "metadata": {
    "id": "KtitIZH9HBQX"
   },
   "outputs": [],
   "source": [
    "from tqdm import tqdm\n",
    "\n",
    "def train(num_epochs = 50):\n",
    "    losses=[]\n",
    "    baseLineCNN.train()\n",
    "    for epoch in range(num_epochs):\n",
    "        total_loss=0\n",
    "        loop = tqdm(train_loader, total = len(train_loader), position=0, leave = True)\n",
    "        if epoch % 2 == 0:\n",
    "            loop.set_postfix(val_acc = check_accuracy(validation_loader, baseLineCNN))\n",
    "        for imgs, labels in loop:\n",
    "            imgs = imgs.to(device)\n",
    "            labels = labels.to(device)\n",
    "            # print(\"imgs\")\n",
    "            # print(imgs.shape)\n",
    "            # print(\"labels\")\n",
    "            # print(labels.shape)\n",
    "            outputs = baseLineCNN(imgs)\n",
    "            # print(\"outputs\")\n",
    "            # print(outputs)\n",
    "            \n",
    "            loss = lossFunction(outputs, labels)\n",
    "            optimizer.zero_grad()\n",
    "            loss.backward()\n",
    "            optimizer.step()\n",
    "            loop.set_description(f\"Epoch [{epoch}/{num_epochs}]\")\n",
    "            loop.set_postfix(loss = loss.item())\n",
    "            total_loss+=loss\n",
    "        losses.append(total_loss/len(train_loader))\n",
    "        torch.save(baseLineCNN.state_dict(), '/content/drive/MyDrive/Base CNN/TrainTestVal/model.pth')\n",
    "    return losses"
   ]
  },
  {
   "cell_type": "code",
   "execution_count": null,
   "metadata": {
    "id": "REkKVVaxyiKc"
   },
   "outputs": [],
   "source": [
    "# def train_model(epochs, batch_size, trainDataset, validationDataset):\n",
    "  \n",
    "#   # For Loss vs. Epoch Graph\n",
    "#   losses=[]\n",
    "\n",
    "#   for epoch in range(epochs):\n",
    "#     # loss calculator for each epoch\n",
    "#     total_loss=0\n",
    "\n",
    "#     for n in range(len(trainDataset)//batch_size):\n",
    "#       # Get the Features and target label\n",
    "#       features, target = trainDataset[n*batch_size:(n+1)*batch_size]\n",
    "#       print(features.shape)\n",
    "#       print(target.shape)\n",
    "\n",
    "#       # Evaluate the values\n",
    "#       predictions=baseLineCNN.propagate(features.float())\n",
    "#       loss=lossFunction(predictions,target)\n",
    "#       total_loss+=loss\n",
    "\n",
    "#       optimizer.zero_grad()\n",
    "#       loss.backward()\n",
    "#       optimizer.step()\n",
    "#       if (n+1) % 10 == 0:\n",
    "#         print('Epoch:{}, Iteration: {}/{}'.format(epoch, (n+1), len(trainDataset)//batch_size))\n",
    "\n",
    "#     losses.append(total_loss/batch_size)\n",
    "\n",
    "#     print(f\"Epoch : {epoch+1}  Training loss : {total_loss/n:.2f}\")\n",
    "#   return losses"
   ]
  },
  {
   "cell_type": "code",
   "execution_count": null,
   "metadata": {
    "colab": {
     "base_uri": "https://localhost:8080/"
    },
    "executionInfo": {
     "elapsed": 3252911,
     "status": "ok",
     "timestamp": 1670812746411,
     "user": {
      "displayName": "Cui Jiaheng",
      "userId": "09094726583302031297"
     },
     "user_tz": 300
    },
    "id": "OzGGoG6j0UvZ",
    "outputId": "1cc9d181-d08c-4611-feb2-558d5d23fee6"
   },
   "outputs": [
    {
     "name": "stderr",
     "output_type": "stream",
     "text": [
      "\r",
      "  0%|          | 0/80 [00:00<?, ?it/s]"
     ]
    },
    {
     "name": "stdout",
     "output_type": "stream",
     "text": [
      "Checking accuracy on validation data\n"
     ]
    },
    {
     "name": "stderr",
     "output_type": "stream",
     "text": [
      "Epoch [0/100]: 100%|██████████| 80/80 [00:34<00:00,  2.33it/s, loss=0.605]\n",
      "Epoch [1/100]: 100%|██████████| 80/80 [00:30<00:00,  2.60it/s, loss=0.321]\n",
      "  0%|          | 0/80 [00:00<?, ?it/s]"
     ]
    },
    {
     "name": "stdout",
     "output_type": "stream",
     "text": [
      "Checking accuracy on validation data\n"
     ]
    },
    {
     "name": "stderr",
     "output_type": "stream",
     "text": [
      "Epoch [2/100]: 100%|██████████| 80/80 [00:34<00:00,  2.33it/s, loss=0.194]\n",
      "Epoch [3/100]: 100%|██████████| 80/80 [00:30<00:00,  2.59it/s, loss=0.173]\n",
      "  0%|          | 0/80 [00:00<?, ?it/s]"
     ]
    },
    {
     "name": "stdout",
     "output_type": "stream",
     "text": [
      "Checking accuracy on validation data\n"
     ]
    },
    {
     "name": "stderr",
     "output_type": "stream",
     "text": [
      "Epoch [4/100]: 100%|██████████| 80/80 [00:34<00:00,  2.34it/s, loss=0.305]\n",
      "Epoch [5/100]: 100%|██████████| 80/80 [00:30<00:00,  2.59it/s, loss=0.0597]\n",
      "  0%|          | 0/80 [00:00<?, ?it/s]"
     ]
    },
    {
     "name": "stdout",
     "output_type": "stream",
     "text": [
      "Checking accuracy on validation data\n"
     ]
    },
    {
     "name": "stderr",
     "output_type": "stream",
     "text": [
      "Epoch [6/100]: 100%|██████████| 80/80 [00:34<00:00,  2.35it/s, loss=0.0365]\n",
      "Epoch [7/100]: 100%|██████████| 80/80 [00:31<00:00,  2.57it/s, loss=0.206]\n",
      "  0%|          | 0/80 [00:00<?, ?it/s]"
     ]
    },
    {
     "name": "stdout",
     "output_type": "stream",
     "text": [
      "Checking accuracy on validation data\n"
     ]
    },
    {
     "name": "stderr",
     "output_type": "stream",
     "text": [
      "Epoch [8/100]: 100%|██████████| 80/80 [00:34<00:00,  2.35it/s, loss=0.0499]\n",
      "Epoch [9/100]: 100%|██████████| 80/80 [00:31<00:00,  2.58it/s, loss=0.0443]\n",
      "  0%|          | 0/80 [00:00<?, ?it/s]"
     ]
    },
    {
     "name": "stdout",
     "output_type": "stream",
     "text": [
      "Checking accuracy on validation data\n"
     ]
    },
    {
     "name": "stderr",
     "output_type": "stream",
     "text": [
      "Epoch [10/100]: 100%|██████████| 80/80 [00:34<00:00,  2.33it/s, loss=0.0301]\n",
      "Epoch [11/100]: 100%|██████████| 80/80 [00:30<00:00,  2.59it/s, loss=0.00845]\n",
      "  0%|          | 0/80 [00:00<?, ?it/s]"
     ]
    },
    {
     "name": "stdout",
     "output_type": "stream",
     "text": [
      "Checking accuracy on validation data\n"
     ]
    },
    {
     "name": "stderr",
     "output_type": "stream",
     "text": [
      "Epoch [12/100]: 100%|██████████| 80/80 [00:34<00:00,  2.33it/s, loss=0.0603]\n",
      "Epoch [13/100]: 100%|██████████| 80/80 [00:30<00:00,  2.59it/s, loss=0.00998]\n",
      "  0%|          | 0/80 [00:00<?, ?it/s]"
     ]
    },
    {
     "name": "stdout",
     "output_type": "stream",
     "text": [
      "Checking accuracy on validation data\n"
     ]
    },
    {
     "name": "stderr",
     "output_type": "stream",
     "text": [
      "Epoch [14/100]: 100%|██████████| 80/80 [00:34<00:00,  2.35it/s, loss=0.00374]\n",
      "Epoch [15/100]: 100%|██████████| 80/80 [00:31<00:00,  2.57it/s, loss=0.00401]\n",
      "  0%|          | 0/80 [00:00<?, ?it/s]"
     ]
    },
    {
     "name": "stdout",
     "output_type": "stream",
     "text": [
      "Checking accuracy on validation data\n"
     ]
    },
    {
     "name": "stderr",
     "output_type": "stream",
     "text": [
      "Epoch [16/100]: 100%|██████████| 80/80 [00:33<00:00,  2.35it/s, loss=0.062]\n",
      "Epoch [17/100]: 100%|██████████| 80/80 [00:30<00:00,  2.58it/s, loss=0.00415]\n",
      "  0%|          | 0/80 [00:00<?, ?it/s]"
     ]
    },
    {
     "name": "stdout",
     "output_type": "stream",
     "text": [
      "Checking accuracy on validation data\n"
     ]
    },
    {
     "name": "stderr",
     "output_type": "stream",
     "text": [
      "Epoch [18/100]: 100%|██████████| 80/80 [00:34<00:00,  2.34it/s, loss=0.00655]\n",
      "Epoch [19/100]: 100%|██████████| 80/80 [00:30<00:00,  2.59it/s, loss=0.0577]\n",
      "  0%|          | 0/80 [00:00<?, ?it/s]"
     ]
    },
    {
     "name": "stdout",
     "output_type": "stream",
     "text": [
      "Checking accuracy on validation data\n"
     ]
    },
    {
     "name": "stderr",
     "output_type": "stream",
     "text": [
      "Epoch [20/100]: 100%|██████████| 80/80 [00:34<00:00,  2.35it/s, loss=0.0183]\n",
      "Epoch [21/100]: 100%|██████████| 80/80 [00:30<00:00,  2.60it/s, loss=0.00023]\n",
      "  0%|          | 0/80 [00:00<?, ?it/s]"
     ]
    },
    {
     "name": "stdout",
     "output_type": "stream",
     "text": [
      "Checking accuracy on validation data\n"
     ]
    },
    {
     "name": "stderr",
     "output_type": "stream",
     "text": [
      "Epoch [22/100]: 100%|██████████| 80/80 [00:34<00:00,  2.34it/s, loss=0.104]\n",
      "Epoch [23/100]: 100%|██████████| 80/80 [00:30<00:00,  2.59it/s, loss=0.00409]\n",
      "  0%|          | 0/80 [00:00<?, ?it/s]"
     ]
    },
    {
     "name": "stdout",
     "output_type": "stream",
     "text": [
      "Checking accuracy on validation data\n"
     ]
    },
    {
     "name": "stderr",
     "output_type": "stream",
     "text": [
      "Epoch [24/100]: 100%|██████████| 80/80 [00:34<00:00,  2.34it/s, loss=0.0145]\n",
      "Epoch [25/100]: 100%|██████████| 80/80 [00:30<00:00,  2.59it/s, loss=0.00205]\n",
      "  0%|          | 0/80 [00:00<?, ?it/s]"
     ]
    },
    {
     "name": "stdout",
     "output_type": "stream",
     "text": [
      "Checking accuracy on validation data\n"
     ]
    },
    {
     "name": "stderr",
     "output_type": "stream",
     "text": [
      "Epoch [26/100]: 100%|██████████| 80/80 [00:33<00:00,  2.36it/s, loss=0.0261]\n",
      "Epoch [27/100]: 100%|██████████| 80/80 [00:31<00:00,  2.57it/s, loss=0.00048]\n",
      "  0%|          | 0/80 [00:00<?, ?it/s]"
     ]
    },
    {
     "name": "stdout",
     "output_type": "stream",
     "text": [
      "Checking accuracy on validation data\n"
     ]
    },
    {
     "name": "stderr",
     "output_type": "stream",
     "text": [
      "Epoch [28/100]: 100%|██████████| 80/80 [00:34<00:00,  2.35it/s, loss=0.000305]\n",
      "Epoch [29/100]: 100%|██████████| 80/80 [00:31<00:00,  2.56it/s, loss=0.00126]\n",
      "  0%|          | 0/80 [00:00<?, ?it/s]"
     ]
    },
    {
     "name": "stdout",
     "output_type": "stream",
     "text": [
      "Checking accuracy on validation data\n"
     ]
    },
    {
     "name": "stderr",
     "output_type": "stream",
     "text": [
      "Epoch [30/100]: 100%|██████████| 80/80 [00:34<00:00,  2.33it/s, loss=6.77e-5]\n",
      "Epoch [31/100]: 100%|██████████| 80/80 [00:30<00:00,  2.60it/s, loss=8.2e-5]\n",
      "  0%|          | 0/80 [00:00<?, ?it/s]"
     ]
    },
    {
     "name": "stdout",
     "output_type": "stream",
     "text": [
      "Checking accuracy on validation data\n"
     ]
    },
    {
     "name": "stderr",
     "output_type": "stream",
     "text": [
      "Epoch [32/100]: 100%|██████████| 80/80 [00:34<00:00,  2.34it/s, loss=3.98e-5]\n",
      "Epoch [33/100]: 100%|██████████| 80/80 [00:30<00:00,  2.59it/s, loss=3.45e-5]\n",
      "  0%|          | 0/80 [00:00<?, ?it/s]"
     ]
    },
    {
     "name": "stdout",
     "output_type": "stream",
     "text": [
      "Checking accuracy on validation data\n"
     ]
    },
    {
     "name": "stderr",
     "output_type": "stream",
     "text": [
      "Epoch [34/100]: 100%|██████████| 80/80 [00:34<00:00,  2.33it/s, loss=0.000134]\n",
      "Epoch [35/100]: 100%|██████████| 80/80 [00:30<00:00,  2.59it/s, loss=0.000386]\n",
      "  0%|          | 0/80 [00:00<?, ?it/s]"
     ]
    },
    {
     "name": "stdout",
     "output_type": "stream",
     "text": [
      "Checking accuracy on validation data\n"
     ]
    },
    {
     "name": "stderr",
     "output_type": "stream",
     "text": [
      "Epoch [36/100]: 100%|██████████| 80/80 [00:33<00:00,  2.36it/s, loss=1.07e-5]\n",
      "Epoch [37/100]: 100%|██████████| 80/80 [00:30<00:00,  2.58it/s, loss=1.78e-5]\n",
      "  0%|          | 0/80 [00:00<?, ?it/s]"
     ]
    },
    {
     "name": "stdout",
     "output_type": "stream",
     "text": [
      "Checking accuracy on validation data\n"
     ]
    },
    {
     "name": "stderr",
     "output_type": "stream",
     "text": [
      "Epoch [38/100]: 100%|██████████| 80/80 [00:33<00:00,  2.36it/s, loss=5.21e-5]\n",
      "Epoch [39/100]: 100%|██████████| 80/80 [00:30<00:00,  2.59it/s, loss=4.84e-5]\n",
      "  0%|          | 0/80 [00:00<?, ?it/s]"
     ]
    },
    {
     "name": "stdout",
     "output_type": "stream",
     "text": [
      "Checking accuracy on validation data\n"
     ]
    },
    {
     "name": "stderr",
     "output_type": "stream",
     "text": [
      "Epoch [40/100]: 100%|██████████| 80/80 [00:34<00:00,  2.33it/s, loss=4.51e-6]\n",
      "Epoch [41/100]: 100%|██████████| 80/80 [00:30<00:00,  2.60it/s, loss=3.73e-5]\n",
      "  0%|          | 0/80 [00:00<?, ?it/s]"
     ]
    },
    {
     "name": "stdout",
     "output_type": "stream",
     "text": [
      "Checking accuracy on validation data\n"
     ]
    },
    {
     "name": "stderr",
     "output_type": "stream",
     "text": [
      "Epoch [42/100]: 100%|██████████| 80/80 [00:34<00:00,  2.35it/s, loss=3.69e-6]\n",
      "Epoch [43/100]: 100%|██████████| 80/80 [00:30<00:00,  2.60it/s, loss=1.74e-5]\n",
      "  0%|          | 0/80 [00:00<?, ?it/s]"
     ]
    },
    {
     "name": "stdout",
     "output_type": "stream",
     "text": [
      "Checking accuracy on validation data\n"
     ]
    },
    {
     "name": "stderr",
     "output_type": "stream",
     "text": [
      "Epoch [44/100]: 100%|██████████| 80/80 [00:34<00:00,  2.34it/s, loss=5.41e-5]\n",
      "Epoch [45/100]: 100%|██████████| 80/80 [00:31<00:00,  2.57it/s, loss=4.79e-5]\n",
      "  0%|          | 0/80 [00:00<?, ?it/s]"
     ]
    },
    {
     "name": "stdout",
     "output_type": "stream",
     "text": [
      "Checking accuracy on validation data\n"
     ]
    },
    {
     "name": "stderr",
     "output_type": "stream",
     "text": [
      "Epoch [46/100]: 100%|██████████| 80/80 [00:34<00:00,  2.35it/s, loss=6.58e-6]\n",
      "Epoch [47/100]: 100%|██████████| 80/80 [00:30<00:00,  2.59it/s, loss=5.24e-5]\n",
      "  0%|          | 0/80 [00:00<?, ?it/s]"
     ]
    },
    {
     "name": "stdout",
     "output_type": "stream",
     "text": [
      "Checking accuracy on validation data\n"
     ]
    },
    {
     "name": "stderr",
     "output_type": "stream",
     "text": [
      "Epoch [48/100]: 100%|██████████| 80/80 [00:34<00:00,  2.35it/s, loss=1.15e-5]\n",
      "Epoch [49/100]: 100%|██████████| 80/80 [00:30<00:00,  2.59it/s, loss=1.52e-5]\n",
      "  0%|          | 0/80 [00:00<?, ?it/s]"
     ]
    },
    {
     "name": "stdout",
     "output_type": "stream",
     "text": [
      "Checking accuracy on validation data\n"
     ]
    },
    {
     "name": "stderr",
     "output_type": "stream",
     "text": [
      "Epoch [50/100]: 100%|██████████| 80/80 [00:34<00:00,  2.35it/s, loss=3.02e-5]\n",
      "Epoch [51/100]: 100%|██████████| 80/80 [00:31<00:00,  2.58it/s, loss=2.57e-5]\n",
      "  0%|          | 0/80 [00:00<?, ?it/s]"
     ]
    },
    {
     "name": "stdout",
     "output_type": "stream",
     "text": [
      "Checking accuracy on validation data\n"
     ]
    },
    {
     "name": "stderr",
     "output_type": "stream",
     "text": [
      "Epoch [52/100]: 100%|██████████| 80/80 [00:34<00:00,  2.34it/s, loss=5.05e-5]\n",
      "Epoch [53/100]: 100%|██████████| 80/80 [00:30<00:00,  2.59it/s, loss=2.08e-6]\n",
      "  0%|          | 0/80 [00:00<?, ?it/s]"
     ]
    },
    {
     "name": "stdout",
     "output_type": "stream",
     "text": [
      "Checking accuracy on validation data\n"
     ]
    },
    {
     "name": "stderr",
     "output_type": "stream",
     "text": [
      "Epoch [54/100]: 100%|██████████| 80/80 [00:34<00:00,  2.35it/s, loss=8.57e-6]\n",
      "Epoch [55/100]: 100%|██████████| 80/80 [00:30<00:00,  2.59it/s, loss=7.51e-7]\n",
      "  0%|          | 0/80 [00:00<?, ?it/s]"
     ]
    },
    {
     "name": "stdout",
     "output_type": "stream",
     "text": [
      "Checking accuracy on validation data\n"
     ]
    },
    {
     "name": "stderr",
     "output_type": "stream",
     "text": [
      "Epoch [56/100]: 100%|██████████| 80/80 [00:34<00:00,  2.34it/s, loss=1.03e-5]\n",
      "Epoch [57/100]: 100%|██████████| 80/80 [00:30<00:00,  2.60it/s, loss=6.19e-5]\n",
      "  0%|          | 0/80 [00:00<?, ?it/s]"
     ]
    },
    {
     "name": "stdout",
     "output_type": "stream",
     "text": [
      "Checking accuracy on validation data\n"
     ]
    },
    {
     "name": "stderr",
     "output_type": "stream",
     "text": [
      "Epoch [58/100]: 100%|██████████| 80/80 [00:33<00:00,  2.35it/s, loss=1.17e-5]\n",
      "Epoch [59/100]: 100%|██████████| 80/80 [00:31<00:00,  2.58it/s, loss=2.67e-6]\n",
      "  0%|          | 0/80 [00:00<?, ?it/s]"
     ]
    },
    {
     "name": "stdout",
     "output_type": "stream",
     "text": [
      "Checking accuracy on validation data\n"
     ]
    },
    {
     "name": "stderr",
     "output_type": "stream",
     "text": [
      "Epoch [60/100]: 100%|██████████| 80/80 [00:33<00:00,  2.35it/s, loss=5.37e-5]\n",
      "Epoch [61/100]: 100%|██████████| 80/80 [00:31<00:00,  2.58it/s, loss=2.03e-6]\n",
      "  0%|          | 0/80 [00:00<?, ?it/s]"
     ]
    },
    {
     "name": "stdout",
     "output_type": "stream",
     "text": [
      "Checking accuracy on validation data\n"
     ]
    },
    {
     "name": "stderr",
     "output_type": "stream",
     "text": [
      "Epoch [62/100]: 100%|██████████| 80/80 [00:34<00:00,  2.35it/s, loss=2.03e-6]\n",
      "Epoch [63/100]: 100%|██████████| 80/80 [00:30<00:00,  2.58it/s, loss=7.53e-6]\n",
      "  0%|          | 0/80 [00:00<?, ?it/s]"
     ]
    },
    {
     "name": "stdout",
     "output_type": "stream",
     "text": [
      "Checking accuracy on validation data\n"
     ]
    },
    {
     "name": "stderr",
     "output_type": "stream",
     "text": [
      "Epoch [64/100]: 100%|██████████| 80/80 [00:34<00:00,  2.34it/s, loss=1.08e-5]\n",
      "Epoch [65/100]: 100%|██████████| 80/80 [00:30<00:00,  2.60it/s, loss=2.05e-5]\n",
      "  0%|          | 0/80 [00:00<?, ?it/s]"
     ]
    },
    {
     "name": "stdout",
     "output_type": "stream",
     "text": [
      "Checking accuracy on validation data\n"
     ]
    },
    {
     "name": "stderr",
     "output_type": "stream",
     "text": [
      "Epoch [66/100]: 100%|██████████| 80/80 [00:33<00:00,  2.36it/s, loss=5.34e-5]\n",
      "Epoch [67/100]: 100%|██████████| 80/80 [00:31<00:00,  2.57it/s, loss=3.65e-6]\n",
      "  0%|          | 0/80 [00:00<?, ?it/s]"
     ]
    },
    {
     "name": "stdout",
     "output_type": "stream",
     "text": [
      "Checking accuracy on validation data\n"
     ]
    },
    {
     "name": "stderr",
     "output_type": "stream",
     "text": [
      "Epoch [68/100]: 100%|██████████| 80/80 [00:33<00:00,  2.36it/s, loss=1.06e-6]\n",
      "Epoch [69/100]: 100%|██████████| 80/80 [00:30<00:00,  2.59it/s, loss=4.39e-5]\n",
      "  0%|          | 0/80 [00:00<?, ?it/s]"
     ]
    },
    {
     "name": "stdout",
     "output_type": "stream",
     "text": [
      "Checking accuracy on validation data\n"
     ]
    },
    {
     "name": "stderr",
     "output_type": "stream",
     "text": [
      "Epoch [70/100]: 100%|██████████| 80/80 [00:33<00:00,  2.36it/s, loss=7.32e-6]\n",
      "Epoch [71/100]: 100%|██████████| 80/80 [00:30<00:00,  2.60it/s, loss=2.24e-5]\n",
      "  0%|          | 0/80 [00:00<?, ?it/s]"
     ]
    },
    {
     "name": "stdout",
     "output_type": "stream",
     "text": [
      "Checking accuracy on validation data\n"
     ]
    },
    {
     "name": "stderr",
     "output_type": "stream",
     "text": [
      "Epoch [72/100]: 100%|██████████| 80/80 [00:34<00:00,  2.33it/s, loss=2.79e-6]\n",
      "Epoch [73/100]: 100%|██████████| 80/80 [00:30<00:00,  2.61it/s, loss=1.17e-5]\n",
      "  0%|          | 0/80 [00:00<?, ?it/s]"
     ]
    },
    {
     "name": "stdout",
     "output_type": "stream",
     "text": [
      "Checking accuracy on validation data\n"
     ]
    },
    {
     "name": "stderr",
     "output_type": "stream",
     "text": [
      "Epoch [74/100]: 100%|██████████| 80/80 [00:33<00:00,  2.36it/s, loss=0.166]\n",
      "Epoch [75/100]: 100%|██████████| 80/80 [00:30<00:00,  2.60it/s, loss=0.194]\n",
      "  0%|          | 0/80 [00:00<?, ?it/s]"
     ]
    },
    {
     "name": "stdout",
     "output_type": "stream",
     "text": [
      "Checking accuracy on validation data\n"
     ]
    },
    {
     "name": "stderr",
     "output_type": "stream",
     "text": [
      "Epoch [76/100]: 100%|██████████| 80/80 [00:34<00:00,  2.35it/s, loss=0.00285]\n",
      "Epoch [77/100]: 100%|██████████| 80/80 [00:30<00:00,  2.60it/s, loss=0.0415]\n",
      "  0%|          | 0/80 [00:00<?, ?it/s]"
     ]
    },
    {
     "name": "stdout",
     "output_type": "stream",
     "text": [
      "Checking accuracy on validation data\n"
     ]
    },
    {
     "name": "stderr",
     "output_type": "stream",
     "text": [
      "Epoch [78/100]: 100%|██████████| 80/80 [00:34<00:00,  2.35it/s, loss=0.000283]\n",
      "Epoch [79/100]: 100%|██████████| 80/80 [00:30<00:00,  2.59it/s, loss=0.000216]\n",
      "  0%|          | 0/80 [00:00<?, ?it/s]"
     ]
    },
    {
     "name": "stdout",
     "output_type": "stream",
     "text": [
      "Checking accuracy on validation data\n"
     ]
    },
    {
     "name": "stderr",
     "output_type": "stream",
     "text": [
      "Epoch [80/100]: 100%|██████████| 80/80 [00:35<00:00,  2.28it/s, loss=0.000809]\n",
      "Epoch [81/100]: 100%|██████████| 80/80 [00:32<00:00,  2.48it/s, loss=6.17e-5]\n",
      "  0%|          | 0/80 [00:00<?, ?it/s]"
     ]
    },
    {
     "name": "stdout",
     "output_type": "stream",
     "text": [
      "Checking accuracy on validation data\n"
     ]
    },
    {
     "name": "stderr",
     "output_type": "stream",
     "text": [
      "Epoch [82/100]: 100%|██████████| 80/80 [00:34<00:00,  2.34it/s, loss=8.38e-5]\n",
      "Epoch [83/100]: 100%|██████████| 80/80 [00:30<00:00,  2.58it/s, loss=4.26e-5]\n",
      "  0%|          | 0/80 [00:00<?, ?it/s]"
     ]
    },
    {
     "name": "stdout",
     "output_type": "stream",
     "text": [
      "Checking accuracy on validation data\n"
     ]
    },
    {
     "name": "stderr",
     "output_type": "stream",
     "text": [
      "Epoch [84/100]: 100%|██████████| 80/80 [00:33<00:00,  2.35it/s, loss=0.000113]\n",
      "Epoch [85/100]: 100%|██████████| 80/80 [00:30<00:00,  2.60it/s, loss=4.34e-5]\n",
      "  0%|          | 0/80 [00:00<?, ?it/s]"
     ]
    },
    {
     "name": "stdout",
     "output_type": "stream",
     "text": [
      "Checking accuracy on validation data\n"
     ]
    },
    {
     "name": "stderr",
     "output_type": "stream",
     "text": [
      "Epoch [86/100]: 100%|██████████| 80/80 [00:33<00:00,  2.36it/s, loss=7.16e-5]\n",
      "Epoch [87/100]: 100%|██████████| 80/80 [00:30<00:00,  2.60it/s, loss=0.000147]\n",
      "  0%|          | 0/80 [00:00<?, ?it/s]"
     ]
    },
    {
     "name": "stdout",
     "output_type": "stream",
     "text": [
      "Checking accuracy on validation data\n"
     ]
    },
    {
     "name": "stderr",
     "output_type": "stream",
     "text": [
      "Epoch [88/100]: 100%|██████████| 80/80 [00:33<00:00,  2.37it/s, loss=7.23e-5]\n",
      "Epoch [89/100]: 100%|██████████| 80/80 [00:31<00:00,  2.58it/s, loss=9.75e-5]\n",
      "  0%|          | 0/80 [00:00<?, ?it/s]"
     ]
    },
    {
     "name": "stdout",
     "output_type": "stream",
     "text": [
      "Checking accuracy on validation data\n"
     ]
    },
    {
     "name": "stderr",
     "output_type": "stream",
     "text": [
      "Epoch [90/100]: 100%|██████████| 80/80 [00:33<00:00,  2.37it/s, loss=3.74e-5]\n",
      "Epoch [91/100]: 100%|██████████| 80/80 [00:30<00:00,  2.59it/s, loss=7.26e-6]\n",
      "  0%|          | 0/80 [00:00<?, ?it/s]"
     ]
    },
    {
     "name": "stdout",
     "output_type": "stream",
     "text": [
      "Checking accuracy on validation data\n"
     ]
    },
    {
     "name": "stderr",
     "output_type": "stream",
     "text": [
      "Epoch [92/100]: 100%|██████████| 80/80 [00:33<00:00,  2.36it/s, loss=2.38e-5]\n",
      "Epoch [93/100]: 100%|██████████| 80/80 [00:30<00:00,  2.59it/s, loss=0.000139]\n",
      "  0%|          | 0/80 [00:00<?, ?it/s]"
     ]
    },
    {
     "name": "stdout",
     "output_type": "stream",
     "text": [
      "Checking accuracy on validation data\n"
     ]
    },
    {
     "name": "stderr",
     "output_type": "stream",
     "text": [
      "Epoch [94/100]: 100%|██████████| 80/80 [00:34<00:00,  2.34it/s, loss=3.52e-5]\n",
      "Epoch [95/100]: 100%|██████████| 80/80 [00:30<00:00,  2.61it/s, loss=4.27e-5]\n",
      "  0%|          | 0/80 [00:00<?, ?it/s]"
     ]
    },
    {
     "name": "stdout",
     "output_type": "stream",
     "text": [
      "Checking accuracy on validation data\n"
     ]
    },
    {
     "name": "stderr",
     "output_type": "stream",
     "text": [
      "Epoch [96/100]: 100%|██████████| 80/80 [00:33<00:00,  2.35it/s, loss=5.96e-7]\n",
      "Epoch [97/100]: 100%|██████████| 80/80 [00:30<00:00,  2.61it/s, loss=9.26e-5]\n",
      "  0%|          | 0/80 [00:00<?, ?it/s]"
     ]
    },
    {
     "name": "stdout",
     "output_type": "stream",
     "text": [
      "Checking accuracy on validation data\n"
     ]
    },
    {
     "name": "stderr",
     "output_type": "stream",
     "text": [
      "Epoch [98/100]: 100%|██████████| 80/80 [00:33<00:00,  2.36it/s, loss=0.000154]\n",
      "Epoch [99/100]: 100%|██████████| 80/80 [00:30<00:00,  2.60it/s, loss=9.78e-5]\n"
     ]
    }
   ],
   "source": [
    "epochs = 100\n",
    "# batch_size = 128\n",
    "# result = train_model(epochs, batch_size, trainDataset = trainDataset_all)\n",
    "result = train(num_epochs = epochs)"
   ]
  },
  {
   "cell_type": "markdown",
   "metadata": {
    "id": "EC5aO_nLUEiN"
   },
   "source": [
    "## Evaluation Part"
   ]
  },
  {
   "cell_type": "code",
   "execution_count": null,
   "metadata": {
    "colab": {
     "base_uri": "https://localhost:8080/",
     "height": 253
    },
    "executionInfo": {
     "elapsed": 342,
     "status": "ok",
     "timestamp": 1670814180217,
     "user": {
      "displayName": "Cui Jiaheng",
      "userId": "09094726583302031297"
     },
     "user_tz": 300
    },
    "id": "5w_QhD18yiKd",
    "outputId": "ba72e0d8-583a-4082-d081-00b68b063987"
   },
   "outputs": [
    {
     "data": {
      "image/png": "[encoded data removed]",
      "text/plain": [
       "<Figure size 1152x360 with 1 Axes>"
      ]
     },
     "metadata": {
      "needs_background": "light"
     },
     "output_type": "display_data"
    }
   ],
   "source": [
    "# Loss vs. Epochs for Training Set\n",
    "fig = plt.figure(figsize=(16,5))\n",
    "losses = torch.tensor(result)\n",
    "plt.plot(list(range(epochs)),losses)\n",
    "plt.title(\"Loss vs Epochs\")\n",
    "plt.xlabel(\"Epochs\")\n",
    "plt.ylabel(\"Loss\")\n",
    "plt.show()"
   ]
  },
  {
   "cell_type": "code",
   "execution_count": null,
   "metadata": {
    "id": "M692GhmqyiKd"
   },
   "outputs": [],
   "source": [
    "# Get the target and Predcition label to calculate the metrics\n",
    "def getTargetsAndPredictions(num_dataset = 1, datasetLocation = '', augmented_technique = ''):\n",
    "    testDataset = TumorDataset(num_dataset, datasetLocation, augmented_technique)\n",
    "    targets=[]\n",
    "    predictions=[]\n",
    "    # print(testDataset[0])\n",
    "    baseLineCNN.eval()\n",
    "\n",
    "    for i in range(len(testDataset)):\n",
    "        features, target = testDataset[i]\n",
    "        targets.append(target.cpu().detach().item())\n",
    "        # print(features.shape)\n",
    "        # print(target.shape)\n",
    "        ypred = baseLineCNN(features.float().to(device))\n",
    "        # print(ypred)\n",
    "        prediction = torch.argmax(ypred)\n",
    "        # print(prediction)\n",
    "        predictions.append(prediction.cpu().detach().item())\n",
    "    return [targets, predictions]"
   ]
  },
  {
   "cell_type": "code",
   "execution_count": 172,
   "metadata": {
    "executionInfo": {
     "elapsed": 40441,
     "status": "ok",
     "timestamp": 1670814826095,
     "user": {
      "displayName": "Cui Jiaheng",
      "userId": "09094726583302031297"
     },
     "user_tz": 300
    },
    "id": "3dGb7quNyiKf"
   },
   "outputs": [],
   "source": [
    "# Training Set: dataset + all\n",
    "trainLocation = dir_path + \"/Train\"\n",
    "\n",
    "# Validation Set : 20% (300 Images)\n",
    "validationLocation = dir_path + \"/Val\"\n",
    "\n",
    "# Testing Set : 20% (300 Images)\n",
    "testLocation = dir_path + \"/Test\"\n",
    "\n",
    "# predict\n",
    "trainLabels, trainResults = getTargetsAndPredictions(num_dataset = 2, datasetLocation = trainLocation, augmented_technique = '')\n",
    "validationLabels, validationResults = getTargetsAndPredictions(num_dataset = 1, datasetLocation = validationLocation)\n",
    "testLabels,testResults = getTargetsAndPredictions(num_dataset = 1, datasetLocation = testLocation)"
   ]
  },
  {
   "cell_type": "code",
   "execution_count": null,
   "metadata": {
    "colab": {
     "base_uri": "https://localhost:8080/",
     "height": 297
    },
    "executionInfo": {
     "elapsed": 289,
     "status": "ok",
     "timestamp": 1670814219774,
     "user": {
      "displayName": "Cui Jiaheng",
      "userId": "09094726583302031297"
     },
     "user_tz": 300
    },
    "id": "2y4HvNtuyiKf",
    "outputId": "547f1c8d-cceb-4386-88e5-e42db74d2adb"
   },
   "outputs": [
    {
     "name": "stdout",
     "output_type": "stream",
     "text": [
      "F1 Score on Training Set : 1.0\n"
     ]
    },
    {
     "data": {
      "image/png": "[encoded data removed]",
      "text/plain": [
       "<Figure size 432x288 with 2 Axes>"
      ]
     },
     "metadata": {
      "needs_background": "light"
     },
     "output_type": "display_data"
    }
   ],
   "source": [
    "trainMatrix=ConfusionMatrixDisplay(confusion_matrix(trainLabels,trainResults))\n",
    "trainMatrix.plot()\n",
    "print(f\"F1 Score on Training Set : {f1_score(trainLabels,trainResults)}\")\n",
    "plt.show()"
   ]
  },
  {
   "cell_type": "code",
   "execution_count": null,
   "metadata": {
    "colab": {
     "base_uri": "https://localhost:8080/",
     "height": 297
    },
    "executionInfo": {
     "elapsed": 6,
     "status": "ok",
     "timestamp": 1670814219775,
     "user": {
      "displayName": "Cui Jiaheng",
      "userId": "09094726583302031297"
     },
     "user_tz": 300
    },
    "id": "N7mFohgYyiKf",
    "outputId": "146c2a06-b870-4719-f205-8b8d4d27e475"
   },
   "outputs": [
    {
     "name": "stdout",
     "output_type": "stream",
     "text": [
      "F1 Score on Validation Set : 0.9818780889621087\n"
     ]
    },
    {
     "data": {
      "image/png": "[encoded data removed]",
      "text/plain": [
       "<Figure size 432x288 with 2 Axes>"
      ]
     },
     "metadata": {
      "needs_background": "light"
     },
     "output_type": "display_data"
    }
   ],
   "source": [
    "validationMatrix=ConfusionMatrixDisplay(confusion_matrix(validationLabels,validationResults))\n",
    "validationMatrix.plot()\n",
    "print(f\"F1 Score on Validation Set : {f1_score(validationLabels,validationResults)}\")\n",
    "plt.show()"
   ]
  },
  {
   "cell_type": "code",
   "execution_count": null,
   "metadata": {
    "colab": {
     "base_uri": "https://localhost:8080/",
     "height": 297
    },
    "executionInfo": {
     "elapsed": 154,
     "status": "ok",
     "timestamp": 1670814223959,
     "user": {
      "displayName": "Cui Jiaheng",
      "userId": "09094726583302031297"
     },
     "user_tz": 300
    },
    "id": "OwxFKWWXyiKg",
    "outputId": "f52ee46a-d80c-41b7-e0b0-2a1000f37aa6"
   },
   "outputs": [
    {
     "name": "stdout",
     "output_type": "stream",
     "text": [
      "F1 Score on test Set : 0.9770491803278689\n"
     ]
    },
    {
     "data": {
      "image/png": "[encoded data removed]",
      "text/plain": [
       "<Figure size 432x288 with 2 Axes>"
      ]
     },
     "metadata": {
      "needs_background": "light"
     },
     "output_type": "display_data"
    }
   ],
   "source": [
    "testMatrix=ConfusionMatrixDisplay(confusion_matrix(testLabels,testResults))\n",
    "testMatrix.plot()\n",
    "print(f\"F1 Score on test Set : {f1_score(testLabels,testResults)}\")\n",
    "plt.show()"
   ]
  },
  {
   "cell_type": "code",
   "execution_count": 171,
   "metadata": {
    "colab": {
     "base_uri": "https://localhost:8080/",
     "height": 295
    },
    "executionInfo": {
     "elapsed": 433,
     "status": "ok",
     "timestamp": 1670814726094,
     "user": {
      "displayName": "Cui Jiaheng",
      "userId": "09094726583302031297"
     },
     "user_tz": 300
    },
    "id": "1Hy07O-xUNb9",
    "outputId": "c24954fb-4426-482a-9b54-479eb7c95d46"
   },
   "outputs": [
    {
     "data": {
      "image/png": "[encoded data removed]",
      "text/plain": [
       "<Figure size 432x288 with 1 Axes>"
      ]
     },
     "metadata": {
      "needs_background": "light"
     },
     "output_type": "display_data"
    }
   ],
   "source": [
    "#create precision recall curve\n",
    "fig, ax = plt.subplots()\n",
    "\n",
    "precision, recall, thresholds = precision_recall_curve(trainLabels, trainResults)\n",
    "ax.plot(recall, precision, color='orange',label=\"Training Curve\")\n",
    "\n",
    "precision, recall, thresholds = precision_recall_curve(validationLabels, validationResults)\n",
    "ax.plot(recall,precision,color=\"purple\",label=\"Validation Curve\")\n",
    "\n",
    "precision, recall, thresholds = precision_recall_curve(testLabels,testResults)\n",
    "ax.plot(recall,precision,color=\"red\",label=\"Test Curve\")\n",
    "\n",
    "#add axis labels to plot\n",
    "ax.set_title('Precision-Recall Curve')\n",
    "ax.set_ylabel('Precision')\n",
    "ax.set_xlabel('Recall')\n",
    "ax.legend()\n",
    "\n",
    "#display plot\n",
    "plt.show()"
   ]
  },
  {
   "cell_type": "code",
   "execution_count": null,
   "metadata": {
    "id": "cra9rP4F3_7l"
   },
   "outputs": [],
   "source": [
    "# torch.save(baseLineCNN.state_dict(), dir_path+'model.pth')"
   ]
  },
  {
   "cell_type": "code",
   "execution_count": null,
   "metadata": {},
   "outputs": [],
   "source": []
  }
 ],
 "metadata": {
  "accelerator": "GPU",
  "colab": {
   "authorship_tag": "ABX9TyORqm8HQYZdN4tlC3hIAjqn",
   "machine_shape": "hm",
   "mount_file_id": "1UasVZ60C0RxExGNNFxeGcvCeeVgfKk7s",
   "provenance": []
  },
  "gpuClass": "standard",
  "kernelspec": {
   "display_name": "Python 3 (ipykernel)",
   "language": "python",
   "name": "python3"
  },
  "language_info": {
   "codemirror_mode": {
    "name": "ipython",
    "version": 3
   },
   "file_extension": ".py",
   "mimetype": "text/x-python",
   "name": "python",
   "nbconvert_exporter": "python",
   "pygments_lexer": "ipython3",
   "version": "3.8.12"
  }
 },
 "nbformat": 4,
 "nbformat_minor": 1
}
